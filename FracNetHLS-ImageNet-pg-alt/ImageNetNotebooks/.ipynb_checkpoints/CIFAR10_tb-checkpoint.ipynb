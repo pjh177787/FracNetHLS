{
 "cells": [
  {
   "cell_type": "code",
   "execution_count": 1,
   "metadata": {
    "scrolled": true
   },
   "outputs": [],
   "source": [
    "from PIL import Image\n",
    "import numpy as np\n",
    "from numba import jit\n",
    "np.set_printoptions(precision=8)\n",
    "from math import ceil\n",
    "\n",
    "import torch\n",
    "import torchvision\n",
    "import torchvision.transforms as transforms\n",
    "import torch.nn as nn\n",
    "\n",
    "resume = 'binput-prerprelu-pg-resnet20.pt'\n",
    "loaded_dict = torch.load(resume, map_location = 'cpu')"
   ]
  },
  {
   "cell_type": "code",
   "execution_count": 2,
   "metadata": {},
   "outputs": [
    {
     "name": "stdout",
     "output_type": "stream",
     "text": [
      "Downloading https://www.cs.toronto.edu/~kriz/cifar-10-python.tar.gz to ./data\\cifar-10-python.tar.gz\n"
     ]
    },
    {
     "data": {
      "application/vnd.jupyter.widget-view+json": {
       "model_id": "23235e9f67a54723afa6f7dc222b3bc6",
       "version_major": 2,
       "version_minor": 0
      },
      "text/plain": [
       "HBox(children=(HTML(value=''), FloatProgress(value=1.0, bar_style='info', layout=Layout(width='20px'), max=1.0…"
      ]
     },
     "metadata": {},
     "output_type": "display_data"
    },
    {
     "name": "stdout",
     "output_type": "stream",
     "text": [
      "Extracting ./data\\cifar-10-python.tar.gz to ./data\n",
      "Files already downloaded and verified\n"
     ]
    }
   ],
   "source": [
    "transform = transforms.Compose(\n",
    "    [transforms.ToTensor()]\n",
    ")\n",
    "\n",
    "trainset = torchvision.datasets.CIFAR10(root='./data', train=True,\n",
    "                                        download=True, transform=transform)\n",
    "trainloader = torch.utils.data.DataLoader(trainset, batch_size=1,\n",
    "                                          shuffle=False, num_workers=1, \n",
    "                                          pin_memory=True, drop_last=True)\n",
    "\n",
    "testset = torchvision.datasets.CIFAR10(root='./data', train=False,\n",
    "                                       download=True, transform=transform)\n",
    "testloader = torch.utils.data.DataLoader(testset, batch_size=1,\n",
    "                                             shuffle=False, num_workers=1, \n",
    "                                             pin_memory=True, drop_last=True)\n",
    "\n",
    "classes = ('plane', 'car', 'bird', 'cat',\n",
    "           'deer', 'dog', 'frog', 'horse', 'ship', 'truck')\n",
    "# dataiter = iter(trainloader)\n",
    "# for images, labels in dataiter:\n",
    "#     print(labels)\n",
    "# images, labels = dataiter.next()"
   ]
  },
  {
   "cell_type": "code",
   "execution_count": 3,
   "metadata": {},
   "outputs": [],
   "source": [
    "def numpy2bin(filename, np2write):\n",
    "    s = np2write.shape\n",
    "    with open(filename, \"wb\") as f:\n",
    "        f.write(np2write.flatten())\n",
    "\n",
    "    data = np.fromfile(filename, dtype=np.float32)\n",
    "    data_recon = np.array(data).reshape(s)\n",
    "    # print(data_recon)\n",
    "    if data_recon.all() == np2write.all():\n",
    "        print('GOOD')"
   ]
  },
  {
   "cell_type": "code",
   "execution_count": 4,
   "metadata": {},
   "outputs": [],
   "source": [
    "def diff(a, b):\n",
    "    count = 0\n",
    "    if a.shape != b.shape:\n",
    "        return False\n",
    "    for d0 in range(a.shape[0]):\n",
    "        for d1 in range(a.shape[1]):\n",
    "            for d2 in range(a.shape[2]):\n",
    "                for d3 in range(a.shape[3]):\n",
    "                    if a[d0][d1][d2][d3] != b[d0][d1][d2][d3]:\n",
    "                        count += 1\n",
    "    print(count)\n",
    "#                         print('(%d, %d, %d, %d)'%(d0, d1, d2, d3))\n",
    "#                         print('a = %.4f, b = %.4f'%(a[d0][d1][d2][d3], b[d0][d1][d2][d3]))"
   ]
  },
  {
   "cell_type": "code",
   "execution_count": 5,
   "metadata": {},
   "outputs": [],
   "source": [
    "@jit\n",
    "def thermometer_encoding(f_in, encoder_placeholder):\n",
    "    # in_size = (1, 3, 32, 32)\n",
    "    # out_size = (1, 96, 32, 32)\n",
    "    \n",
    "    f_out = np.zeros((1, 96, 32, 32))\n",
    "                       \n",
    "    for n in range(1):\n",
    "        for c_in in range(3):\n",
    "            for c_res in range(32):\n",
    "                for h in range(32):\n",
    "                    for w in range(32):\n",
    "                        c_out = c_in*32 + c_res\n",
    "                        thermo_value = f_in[n][c_in][h][w]\n",
    "                        rounded = np.round(thermo_value*255.0/int(8))\n",
    "                        if rounded > c_res:\n",
    "                            f_out[n][c_out][h][w] = 1\n",
    "                        else:\n",
    "                            f_out[n][c_out][h][w] = -1\n",
    "    return f_out"
   ]
  },
  {
   "cell_type": "code",
   "execution_count": 6,
   "metadata": {},
   "outputs": [],
   "source": [
    "@jit\n",
    "def conv1(f_in, w_in):\n",
    "    f_out = np.zeros((1, 16, 32, 32))\n",
    "    \n",
    "    for n in range(1):\n",
    "        for c_out in range(16):\n",
    "            for row in range(32):\n",
    "                for col in range(32):\n",
    "                    accum = 0\n",
    "                    for c_in in range(96):\n",
    "                        for k_row in range(3):\n",
    "                            for k_col in range(3):\n",
    "                                row_in = row + k_row - 1\n",
    "                                col_in = col + k_col - 1\n",
    "                                if row_in >= 0 and row_in < 32 and col_in >= 0 and col_in < 32:\n",
    "                                    inp = f_in[n][c_in][row_in][col_in]\n",
    "                                    w = w_in[c_out][c_in][k_row][k_col]\n",
    "                                    if (inp == 1 and w > 0) or (inp == -1 and w <= 0):\n",
    "                                        accum += 1\n",
    "                                    else:\n",
    "                                        accum -= 1\n",
    "#                                 accum += f_in_padded[n][c_in][row + k_row][col + k_col]*w_in[c_out][c_in][k_row][k_col]\n",
    "                    f_out[n][c_out][row][col] = accum\n",
    "    return f_out"
   ]
  },
  {
   "cell_type": "code",
   "execution_count": 7,
   "metadata": {},
   "outputs": [],
   "source": [
    "def bn1(f_in, weight, bias):\n",
    "    \n",
    "    # in_size = (1, 16, 32, 32)\n",
    "    # mean, var, weight, bias size = (16,\n",
    "    \n",
    "    f_out = np.zeros(f_in.shape)\n",
    "    \n",
    "    for n in range(1):\n",
    "        for c in range(f_out.shape[1]):\n",
    "            f_out[n][c] = f_in[n][c]*weight[c] + bias[c]\n",
    "    \n",
    "    return f_out"
   ]
  },
  {
   "cell_type": "code",
   "execution_count": 8,
   "metadata": {},
   "outputs": [],
   "source": [
    "@jit\n",
    "def quant_sign(f_in):\n",
    "    s = f_in.shape\n",
    "    f_in = f_in.flatten()\n",
    "    f_out = np.zeros(f_in.shape[0])\n",
    "    for i in range(f_in.shape[0]):\n",
    "        x = f_in[i]\n",
    "        if x > 2/3:\n",
    "            f_out[i] = 1\n",
    "        elif x <= 2/3 and x >= 0:\n",
    "            f_out[i] = 1/3\n",
    "        elif x < 0 and x >= -2/3:\n",
    "            f_out[i] = -1/3\n",
    "        else:\n",
    "            f_out[i] = -1\n",
    "    return f_out.reshape(s)"
   ]
  },
  {
   "cell_type": "code",
   "execution_count": 9,
   "metadata": {},
   "outputs": [],
   "source": [
    "@jit\n",
    "def truncate(f_in):\n",
    "    s = f_in.shape\n",
    "    f_in = f_in.flatten()\n",
    "    f_out = np.zeros(f_in.shape[0])\n",
    "    for i in range(f_in.shape[0]):\n",
    "        x = f_in[i]\n",
    "        if x >= 0:\n",
    "            f_out[i] = 1/3\n",
    "        else:\n",
    "            f_out[i] = -1\n",
    "    return f_out.reshape(s)"
   ]
  },
  {
   "cell_type": "code",
   "execution_count": 10,
   "metadata": {},
   "outputs": [],
   "source": [
    "@jit\n",
    "def gen_conv1(f_in, weight, stride):\n",
    "    si = f_in.shape\n",
    "    sw = weight.shape\n",
    "#     do = ceil(si[2]/stride)\n",
    "    do = int(si[2]/stride)\n",
    "    f_o = np.zeros(shape=(1, sw[0], do, do), dtype=np.float32)\n",
    "    for n in range(1):\n",
    "        for co in range(sw[0]):\n",
    "            for row in range(do):\n",
    "                for col in range(do):\n",
    "                    accum = 0\n",
    "                    for ci in range(sw[1]):\n",
    "                        for krow in range(sw[2]):\n",
    "                            for kcol in range(sw[3]):\n",
    "                                row_in = row*stride + krow - 1\n",
    "                                col_in = col*stride + kcol - 1\n",
    "                                if row_in >= 0 and row_in < f_in.shape[2] and col_in >= 0 and col_in < f_in.shape[2]:\n",
    "                                    accum += f_in[n][ci][row_in][col_in]*weight[co][ci][krow][kcol]\n",
    "#                                 else:\n",
    "#                                     accum += 0\n",
    "                    f_o[n][co][row][col] = accum \n",
    "    return f_o"
   ]
  },
  {
   "cell_type": "code",
   "execution_count": 11,
   "metadata": {},
   "outputs": [],
   "source": [
    "def fuse_bn(weight, bias, mean, var):\n",
    "    fused_weight = weight/np.sqrt(var - 1e-5)\n",
    "    fused_bias = bias - mean*weight/np.sqrt(var - 1e-5)\n",
    "    return fused_weight, fused_bias"
   ]
  },
  {
   "cell_type": "code",
   "execution_count": 12,
   "metadata": {},
   "outputs": [],
   "source": [
    "@jit\n",
    "def sigmoid(x):\n",
    "#     out = x/(1 + abs(x))/2 + 0.5\n",
    "    out = 1/(1+ np.exp(-x))\n",
    "    return out"
   ]
  },
  {
   "cell_type": "code",
   "execution_count": 13,
   "metadata": {},
   "outputs": [],
   "source": [
    "@jit\n",
    "def layer1_0_pgconv1(f_in, weight, threshold):\n",
    "    f_out = np.zeros((1, 16, 32, 32))\n",
    "    f_in_truncate = truncate(f_in)\n",
    "    out_msb = gen_conv1(f_in_truncate, weight, 1)\n",
    "    full_msb = gen_conv1(f_in, weight, 1)\n",
    "    for n in range(1):\n",
    "        for co in range(16):\n",
    "            for row in range(32):\n",
    "                for col in range(32):\n",
    "                    if sigmoid(5*(out_msb[n][co][row][col] - threshold[0][co][0][0])) > 0.5:\n",
    "                        f_out[n][co][row][col] = full_msb[n][co][row][col]\n",
    "                    else:\n",
    "                        f_out[n][co][row][col] = out_msb[n][co][row][col]\n",
    "    return f_out"
   ]
  },
  {
   "cell_type": "code",
   "execution_count": 14,
   "metadata": {},
   "outputs": [],
   "source": [
    "@jit\n",
    "def layer2_0_pgconv1(f_in, weight, threshold):\n",
    "    f_out = np.zeros((1, 32, 16, 16))\n",
    "    f_in_truncate = truncate(f_in)\n",
    "    s = 1\n",
    "    if weight.shape[0] != weight.shape[1]:\n",
    "        s = 2\n",
    "    out_msb = gen_conv1(f_in_truncate, weight, s)\n",
    "    full_msb = gen_conv1(f_in, weight, s)\n",
    "    for n in range(1):\n",
    "        for co in range(32):\n",
    "            for row in range(16):\n",
    "                for col in range(16):\n",
    "                    if sigmoid(5*(out_msb[n][co][row][col] - threshold[0][co][0][0])) > 0.5:\n",
    "                        f_out[n][co][row][col] = full_msb[n][co][row][col]\n",
    "                    else:\n",
    "                        f_out[n][co][row][col] = out_msb[n][co][row][col]\n",
    "    return f_out"
   ]
  },
  {
   "cell_type": "code",
   "execution_count": 15,
   "metadata": {},
   "outputs": [],
   "source": [
    "@jit\n",
    "def layer3_0_pgconv1(f_in, weight, threshold):\n",
    "    f_out = np.zeros((1, 64, 8, 8))\n",
    "    f_in_truncate = truncate(f_in)\n",
    "    s = 1\n",
    "    if weight.shape[0] != weight.shape[1]:\n",
    "        s = 2\n",
    "    out_msb = gen_conv1(f_in_truncate, weight, s)\n",
    "    full_msb = gen_conv1(f_in, weight, s)\n",
    "    for n in range(1):\n",
    "        for co in range(64):\n",
    "            for row in range(8):\n",
    "                for col in range(8):\n",
    "                    if sigmoid(5*(out_msb[n][co][row][col] - threshold[0][co][0][0])) > 0.5:\n",
    "                        f_out[n][co][row][col] = full_msb[n][co][row][col]\n",
    "                    else:\n",
    "                        f_out[n][co][row][col] = out_msb[n][co][row][col]\n",
    "    return f_out"
   ]
  },
  {
   "cell_type": "code",
   "execution_count": 16,
   "metadata": {},
   "outputs": [],
   "source": [
    "@jit\n",
    "def layer1_0_rprelu1(f_in, x_bias, y_bias, weight):\n",
    "    f_out = np.zeros((1, 16, 32, 32))\n",
    "    \n",
    "    for n in range(1):\n",
    "        for c in range(16):\n",
    "            for h in range(32):\n",
    "                for w in range(32):\n",
    "                    t = f_in[n][c][h][w] + x_bias[0][c][0][0]\n",
    "                    if t < 0:\n",
    "                        t = weight[c]*t\n",
    "                    f_out[n][c][h][w] = t + y_bias[0][c][0][0]\n",
    "    return f_out"
   ]
  },
  {
   "cell_type": "code",
   "execution_count": 17,
   "metadata": {},
   "outputs": [],
   "source": [
    "@jit\n",
    "def layer2_0_rprelu1(f_in, x_bias, y_bias, weight):\n",
    "    f_out = np.zeros((1, 32, 16, 16))\n",
    "    \n",
    "    for n in range(1):\n",
    "        for c in range(32):\n",
    "            for h in range(16):\n",
    "                for w in range(16):\n",
    "                    t = f_in[n][c][h][w] + x_bias[0][c][0][0]\n",
    "                    if t < 0:\n",
    "                        t = weight[c]*t\n",
    "                    f_out[n][c][h][w] = t + y_bias[0][c][0][0]\n",
    "    return f_out"
   ]
  },
  {
   "cell_type": "code",
   "execution_count": 18,
   "metadata": {},
   "outputs": [],
   "source": [
    "@jit\n",
    "def layer3_0_rprelu1(f_in, x_bias, y_bias, weight):\n",
    "    f_out = np.zeros((1, 64, 8, 8))\n",
    "    \n",
    "    for n in range(1):\n",
    "        for c in range(64):\n",
    "            for h in range(8):\n",
    "                for w in range(8):\n",
    "                    t = f_in[n][c][h][w] + x_bias[0][c][0][0]\n",
    "                    if t < 0:\n",
    "                        t = weight[c]*t\n",
    "                    f_out[n][c][h][w] = t + y_bias[0][c][0][0]\n",
    "    return f_out"
   ]
  },
  {
   "cell_type": "code",
   "execution_count": 19,
   "metadata": {},
   "outputs": [],
   "source": [
    "@jit\n",
    "def avgpool_concat(f_in):\n",
    "    s = f_in.shape\n",
    "    f_out = np.zeros((1, s[1]*2, int(s[2]/2), int(s[3]/2)))\n",
    "    for n in range(1):\n",
    "        for c in range(s[1]):\n",
    "            for row in range(f_out.shape[2]):\n",
    "                for col in range(f_out.shape[3]):\n",
    "                    m = (f_in[n][c][row*2][col*2] +\n",
    "                           f_in[n][c][row*2][col*2+1] +\n",
    "                           f_in[n][c][row*2+1][col*2] +\n",
    "                           f_in[n][c][row*2+1][col*2+1])/4\n",
    "                    f_out[n][c][row][col] = m\n",
    "                    f_out[n][c+s[1]][row][col] = m\n",
    "    return f_out"
   ]
  },
  {
   "cell_type": "code",
   "execution_count": 20,
   "metadata": {},
   "outputs": [],
   "source": [
    "@jit\n",
    "def avgpool(f_in):\n",
    "    f_out = np.zeros((64,))\n",
    "    for n in range(64):\n",
    "        f_out[n] = np.mean(f_in[0][n])\n",
    "    return f_out"
   ]
  },
  {
   "cell_type": "code",
   "execution_count": 21,
   "metadata": {},
   "outputs": [],
   "source": [
    "# images = np.array(images, dtype = np.float64)\n",
    "# print(images.shape)\n",
    "# print(images)\n",
    "# img = np.array(images*255.0)[0].transpose(1, 2, 0).astype(np.uint8)\n",
    "# display(Image.fromarray(img))"
   ]
  },
  {
   "cell_type": "code",
   "execution_count": 22,
   "metadata": {
    "scrolled": true
   },
   "outputs": [],
   "source": [
    "# placeholder = new_dict['encoder.placeholder'].cpu().numpy()\n",
    "# # print(placeholder.shape)\n",
    "# # print(images[0][0][0][3])\n",
    "# # print(images[0][0][6][14])\n",
    "# # print(images[0][0][7][19])\n",
    "# encoding_out = thermometer_encoding(images, placeholder)\n",
    "# # print(encoding_out.shape)\n",
    "# # print(encoding_out)\n",
    "# conv1_weight = new_dict['conv1.weight'].cpu().numpy()\n",
    "# # print(conv1_weight)\n",
    "# # numpy2bin('weight_bins/conv1_weight2.bin', conv1_weight.transpose((0, 1, 3, 2)))\n",
    "\n",
    "# bn1_weight = new_dict['bn1.weight'].cpu().numpy()\n",
    "# bn1_bias = new_dict['bn1.bias'].cpu().numpy()\n",
    "# bn1_running_mean = new_dict['bn1.running_mean'].cpu().numpy()\n",
    "# bn1_running_var = new_dict['bn1.running_var'].cpu().numpy()\n",
    "# # bn1_num_batches_tracked = new_dict['bn1.num_batches_tracked'].cpu().numpy()\n",
    "\n",
    "# bn1_fused_weight = bn1_weight/np.sqrt(bn1_running_var - 1e-5)\n",
    "# # numpy2bin('weight_bins/bn1_fused_weight.bin', bn1_fused_weight)\n",
    "# bn1_fused_bias = bn1_bias - bn1_running_mean*bn1_weight/np.sqrt(bn1_running_var - 1e-5)\n",
    "# # numpy2bin('weight_bins/bn1_fused_bias.bin', bn1_fused_bias)\n",
    "\n",
    "# conv1_input_golden = np.load('conv1_input.npy')\n",
    "# diff(conv1_input_golden, encoding_out)\n"
   ]
  },
  {
   "cell_type": "code",
   "execution_count": null,
   "metadata": {
    "scrolled": true
   },
   "outputs": [],
   "source": []
  },
  {
   "cell_type": "code",
   "execution_count": 23,
   "metadata": {
    "scrolled": false
   },
   "outputs": [
    {
     "name": "stdout",
     "output_type": "stream",
     "text": [
      "\n"
     ]
    }
   ],
   "source": [
    "def net(img, new_dict):\n",
    "    placeholder = new_dict['encoder.placeholder'].cpu().numpy()\n",
    "    encoding_out = thermometer_encoding(img, placeholder)\n",
    "#     np.save('encoding_out.npy', encoding_out)\n",
    "#     encoding_out = np.load('encoding_out.npy')\n",
    "    \n",
    "    conv1_weight = new_dict['conv1.weight'].cpu().numpy()\n",
    "    conv1_out = conv1(encoding_out, conv1_weight)\n",
    "    bn1_weight = new_dict['bn1.weight'].cpu().numpy()\n",
    "    bn1_bias = new_dict['bn1.bias'].cpu().numpy()\n",
    "    bn1_running_mean = new_dict['bn1.running_mean'].cpu().numpy()\n",
    "    bn1_running_var = new_dict['bn1.running_var'].cpu().numpy()\n",
    "    bn1_fused_weight = bn1_weight/np.sqrt(bn1_running_var - 1e-5)\n",
    "    bn1_fused_bias = bn1_bias - bn1_running_mean*bn1_weight/np.sqrt(bn1_running_var - 1e-5)\n",
    "    bn1_out = bn1(conv1_out, bn1_fused_weight, bn1_fused_bias)\n",
    "\n",
    "    layer1_0_binarize1_out = quant_sign(bn1_out)\n",
    "\n",
    "    layer1_0_conv1_weight = new_dict['layer1.0.conv1.weight'].cpu().numpy()\n",
    "    layer1_0_conv1_threshold = new_dict['layer1.0.conv1.threshold'].cpu().numpy()\n",
    "    layer1_0_pgconv1_out = layer1_0_pgconv1(layer1_0_binarize1_out, np.sign(layer1_0_conv1_weight), layer1_0_conv1_threshold)\n",
    "    \n",
    "    layer1_0_bn1_weight = new_dict['layer1.0.bn1.weight'].cpu().numpy()\n",
    "    layer1_0_bn1_bias = new_dict['layer1.0.bn1.bias'].cpu().numpy()\n",
    "    layer1_0_bn1_running_mean = new_dict['layer1.0.bn1.running_mean'].cpu().numpy()\n",
    "    layer1_0_bn1_running_var = new_dict['layer1.0.bn1.running_var'].cpu().numpy()\n",
    "    layer1_0_bn1_fused_weight, layer1_0_bn1_fused_bias = fuse_bn(layer1_0_bn1_weight, layer1_0_bn1_bias, layer1_0_bn1_running_mean, layer1_0_bn1_running_var)\n",
    "    layer1_0_bn1_out = bn1(layer1_0_pgconv1_out, layer1_0_bn1_fused_weight, layer1_0_bn1_fused_bias)\n",
    "\n",
    "    layer1_0_rprelu1_shift_x_bias = new_dict['layer1.0.rprelu1.shift_x.bias'].cpu().numpy()\n",
    "    layer1_0_rprelu1_shift_y_bias = new_dict['layer1.0.rprelu1.shift_y.bias'].cpu().numpy()\n",
    "    layer1_0_rprelu1_prelu_weight = new_dict['layer1.0.rprelu1.prelu.weight'].cpu().numpy()\n",
    "    layer1_0_rprelu1_out = layer1_0_rprelu1(layer1_0_bn1_out, layer1_0_rprelu1_shift_x_bias, layer1_0_rprelu1_shift_y_bias, layer1_0_rprelu1_prelu_weight)\n",
    "    \n",
    "    layer1_0_shortcut1_out = layer1_0_rprelu1_out + bn1_out\n",
    "\n",
    "    layer1_0_bn3_weight = new_dict['layer1.0.bn3.weight'].cpu().numpy()\n",
    "    layer1_0_bn3_bias = new_dict['layer1.0.bn3.bias'].cpu().numpy()\n",
    "    layer1_0_bn3_running_mean = new_dict['layer1.0.bn3.running_mean'].cpu().numpy()\n",
    "    layer1_0_bn3_running_var = new_dict['layer1.0.bn3.running_var'].cpu().numpy()\n",
    "    layer1_0_bn3_fused_weight, layer1_0_bn3_fused_bias = fuse_bn(layer1_0_bn3_weight, layer1_0_bn3_bias, layer1_0_bn3_running_mean, layer1_0_bn3_running_var)\n",
    "    layer1_0_bn3_out = bn1(layer1_0_shortcut1_out, layer1_0_bn3_fused_weight, layer1_0_bn3_fused_bias)\n",
    "\n",
    "    layer1_0_binarize2_out = quant_sign(layer1_0_bn3_out)\n",
    "\n",
    "    layer1_0_conv2_weight = new_dict['layer1.0.conv2.weight'].cpu().numpy()\n",
    "    layer1_0_conv2_threshold = new_dict['layer1.0.conv2.threshold'].cpu().numpy()\n",
    "    layer1_0_pgconv2_out = layer1_0_pgconv1(layer1_0_binarize2_out, np.sign(layer1_0_conv2_weight), layer1_0_conv2_threshold)\n",
    "\n",
    "    layer1_0_bn2_weight = new_dict['layer1.0.bn2.weight'].cpu().numpy()\n",
    "    layer1_0_bn2_bias = new_dict['layer1.0.bn2.bias'].cpu().numpy()\n",
    "    layer1_0_bn2_running_mean = new_dict['layer1.0.bn2.running_mean'].cpu().numpy()\n",
    "    layer1_0_bn2_running_var = new_dict['layer1.0.bn2.running_var'].cpu().numpy()\n",
    "    layer1_0_bn2_fused_weight, layer1_0_bn2_fused_bias = fuse_bn(layer1_0_bn2_weight, layer1_0_bn2_bias, layer1_0_bn2_running_mean, layer1_0_bn2_running_var)\n",
    "    layer1_0_bn2_out = bn1(layer1_0_pgconv2_out, layer1_0_bn2_fused_weight, layer1_0_bn2_fused_bias)\n",
    "\n",
    "    layer1_0_rprelu2_shift_x_bias = new_dict['layer1.0.rprelu2.shift_x.bias'].cpu().numpy()\n",
    "    layer1_0_rprelu2_shift_y_bias = new_dict['layer1.0.rprelu2.shift_y.bias'].cpu().numpy()\n",
    "    layer1_0_rprelu2_prelu_weight = new_dict['layer1.0.rprelu2.prelu.weight'].cpu().numpy()\n",
    "    layer1_0_rprelu2_out = layer1_0_rprelu1(layer1_0_bn2_out, layer1_0_rprelu2_shift_x_bias, layer1_0_rprelu2_shift_y_bias, layer1_0_rprelu2_prelu_weight)\n",
    "\n",
    "    layer1_0_shortcut2_out = layer1_0_rprelu2_out + layer1_0_bn3_out\n",
    "\n",
    "    layer1_0_bn4_weight = new_dict['layer1.0.bn4.weight'].cpu().numpy()\n",
    "    layer1_0_bn4_bias = new_dict['layer1.0.bn4.bias'].cpu().numpy()\n",
    "    layer1_0_bn4_running_mean = new_dict['layer1.0.bn4.running_mean'].cpu().numpy()\n",
    "    layer1_0_bn4_running_var = new_dict['layer1.0.bn4.running_var'].cpu().numpy()\n",
    "    layer1_0_bn4_fused_weight, layer1_0_bn4_fused_bias = fuse_bn(layer1_0_bn4_weight, layer1_0_bn4_bias, layer1_0_bn4_running_mean, layer1_0_bn4_running_var)\n",
    "    layer1_0_bn4_out = bn1(layer1_0_shortcut2_out, layer1_0_bn4_fused_weight, layer1_0_bn4_fused_bias)\n",
    "    \n",
    "    layer1_1_binarize1_out = quant_sign(layer1_0_bn4_out)\n",
    "\n",
    "    layer1_1_conv1_weight = new_dict['layer1.1.conv1.weight'].cpu().numpy()\n",
    "    layer1_1_conv1_threshold = new_dict['layer1.1.conv1.threshold'].cpu().numpy()\n",
    "    layer1_1_pgconv1_out = layer1_0_pgconv1(layer1_1_binarize1_out, np.sign(layer1_1_conv1_weight), layer1_1_conv1_threshold)\n",
    "\n",
    "    layer1_1_bn1_weight = new_dict['layer1.1.bn1.weight'].cpu().numpy()\n",
    "    layer1_1_bn1_bias = new_dict['layer1.1.bn1.bias'].cpu().numpy()\n",
    "    layer1_1_bn1_running_mean = new_dict['layer1.1.bn1.running_mean'].cpu().numpy()\n",
    "    layer1_1_bn1_running_var = new_dict['layer1.1.bn1.running_var'].cpu().numpy()\n",
    "    layer1_1_bn1_fused_weight, layer1_1_bn1_fused_bias = fuse_bn(layer1_1_bn1_weight, layer1_1_bn1_bias, layer1_1_bn1_running_mean, layer1_1_bn1_running_var)\n",
    "    layer1_1_bn1_out = bn1(layer1_1_pgconv1_out, layer1_1_bn1_fused_weight, layer1_1_bn1_fused_bias)\n",
    "\n",
    "    layer1_1_rprelu1_shift_x_bias = new_dict['layer1.1.rprelu1.shift_x.bias'].cpu().numpy()\n",
    "    layer1_1_rprelu1_shift_y_bias = new_dict['layer1.1.rprelu1.shift_y.bias'].cpu().numpy()\n",
    "    layer1_1_rprelu1_prelu_weight = new_dict['layer1.1.rprelu1.prelu.weight'].cpu().numpy()\n",
    "    layer1_1_rprelu1_out = layer1_0_rprelu1(layer1_1_bn1_out, layer1_1_rprelu1_shift_x_bias, layer1_1_rprelu1_shift_y_bias, layer1_1_rprelu1_prelu_weight)\n",
    "\n",
    "    layer1_1_shortcut1_out = layer1_1_rprelu1_out + layer1_0_bn4_out\n",
    "\n",
    "    layer1_1_bn3_weight = new_dict['layer1.1.bn3.weight'].cpu().numpy()\n",
    "    layer1_1_bn3_bias = new_dict['layer1.1.bn3.bias'].cpu().numpy()\n",
    "    layer1_1_bn3_running_mean = new_dict['layer1.1.bn3.running_mean'].cpu().numpy()\n",
    "    layer1_1_bn3_running_var = new_dict['layer1.1.bn3.running_var'].cpu().numpy()\n",
    "    layer1_1_bn3_fused_weight, layer1_1_bn3_fused_bias = fuse_bn(layer1_1_bn3_weight, layer1_1_bn3_bias, layer1_1_bn3_running_mean, layer1_1_bn3_running_var)\n",
    "    layer1_1_bn3_out = bn1(layer1_1_shortcut1_out, layer1_1_bn3_fused_weight, layer1_1_bn3_fused_bias)\n",
    "\n",
    "    layer1_1_binarize2_out = quant_sign(layer1_1_bn3_out)\n",
    "\n",
    "    layer1_1_conv2_weight = new_dict['layer1.1.conv2.weight'].cpu().numpy()\n",
    "    layer1_1_conv2_threshold = new_dict['layer1.1.conv2.threshold'].cpu().numpy()\n",
    "    layer1_1_pgconv2_out = layer1_0_pgconv1(layer1_1_binarize2_out, np.sign(layer1_1_conv2_weight), layer1_1_conv2_threshold)\n",
    "\n",
    "    layer1_1_bn2_weight = new_dict['layer1.1.bn2.weight'].cpu().numpy()\n",
    "    layer1_1_bn2_bias = new_dict['layer1.1.bn2.bias'].cpu().numpy()\n",
    "    layer1_1_bn2_running_mean = new_dict['layer1.1.bn2.running_mean'].cpu().numpy()\n",
    "    layer1_1_bn2_running_var = new_dict['layer1.1.bn2.running_var'].cpu().numpy()\n",
    "    layer1_1_bn2_fused_weight, layer1_1_bn2_fused_bias = fuse_bn(layer1_1_bn2_weight, layer1_1_bn2_bias, layer1_1_bn2_running_mean, layer1_1_bn2_running_var)\n",
    "    layer1_1_bn2_out = bn1(layer1_1_pgconv2_out, layer1_1_bn2_fused_weight, layer1_1_bn2_fused_bias)\n",
    "\n",
    "    layer1_1_rprelu2_shift_x_bias = new_dict['layer1.1.rprelu2.shift_x.bias'].cpu().numpy()\n",
    "    layer1_1_rprelu2_shift_y_bias = new_dict['layer1.1.rprelu2.shift_y.bias'].cpu().numpy()\n",
    "    layer1_1_rprelu2_prelu_weight = new_dict['layer1.1.rprelu2.prelu.weight'].cpu().numpy()\n",
    "    layer1_1_rprelu2_out = layer1_0_rprelu1(layer1_1_bn2_out, layer1_1_rprelu2_shift_x_bias, layer1_1_rprelu2_shift_y_bias, layer1_1_rprelu2_prelu_weight)\n",
    "\n",
    "    layer1_1_shortcut2_out = layer1_1_rprelu2_out + layer1_1_bn3_out\n",
    "\n",
    "    layer1_1_bn4_weight = new_dict['layer1.1.bn4.weight'].cpu().numpy()\n",
    "    layer1_1_bn4_bias = new_dict['layer1.1.bn4.bias'].cpu().numpy()\n",
    "    layer1_1_bn4_running_mean = new_dict['layer1.1.bn4.running_mean'].cpu().numpy()\n",
    "    layer1_1_bn4_running_var = new_dict['layer1.1.bn4.running_var'].cpu().numpy()\n",
    "    layer1_1_bn4_fused_weight, layer1_1_bn4_fused_bias = fuse_bn(layer1_1_bn4_weight, layer1_1_bn4_bias, layer1_1_bn4_running_mean, layer1_1_bn4_running_var)\n",
    "    layer1_1_bn4_out = bn1(layer1_1_shortcut2_out, layer1_1_bn4_fused_weight, layer1_1_bn4_fused_bias)\n",
    "\n",
    "    layer1_2_binarize1_out = quant_sign(layer1_1_bn4_out)\n",
    "\n",
    "    layer1_2_conv1_weight = new_dict['layer1.2.conv1.weight'].cpu().numpy()\n",
    "    layer1_2_conv1_threshold = new_dict['layer1.2.conv1.threshold'].cpu().numpy()\n",
    "    layer1_2_pgconv1_out = layer1_0_pgconv1(layer1_2_binarize1_out, np.sign(layer1_2_conv1_weight), layer1_2_conv1_threshold)\n",
    "\n",
    "    layer1_2_bn1_weight = new_dict['layer1.2.bn1.weight'].cpu().numpy()\n",
    "    layer1_2_bn1_bias = new_dict['layer1.2.bn1.bias'].cpu().numpy()\n",
    "    layer1_2_bn1_running_mean = new_dict['layer1.2.bn1.running_mean'].cpu().numpy()\n",
    "    layer1_2_bn1_running_var = new_dict['layer1.2.bn1.running_var'].cpu().numpy()\n",
    "    layer1_2_bn1_fused_weight, layer1_2_bn1_fused_bias = fuse_bn(layer1_2_bn1_weight, layer1_2_bn1_bias, layer1_2_bn1_running_mean, layer1_2_bn1_running_var)\n",
    "    layer1_2_bn1_out = bn1(layer1_2_pgconv1_out, layer1_2_bn1_fused_weight, layer1_2_bn1_fused_bias)\n",
    "\n",
    "    layer1_2_rprelu1_shift_x_bias = new_dict['layer1.2.rprelu1.shift_x.bias'].cpu().numpy()\n",
    "    layer1_2_rprelu1_shift_y_bias = new_dict['layer1.2.rprelu1.shift_y.bias'].cpu().numpy()\n",
    "    layer1_2_rprelu1_prelu_weight = new_dict['layer1.2.rprelu1.prelu.weight'].cpu().numpy()\n",
    "    layer1_2_rprelu1_out = layer1_0_rprelu1(layer1_2_bn1_out, layer1_2_rprelu1_shift_x_bias, layer1_2_rprelu1_shift_y_bias, layer1_2_rprelu1_prelu_weight)\n",
    "\n",
    "    layer1_2_shortcut1_out = layer1_2_rprelu1_out + layer1_1_bn4_out\n",
    "\n",
    "    layer1_2_bn3_weight = new_dict['layer1.2.bn3.weight'].cpu().numpy()\n",
    "    layer1_2_bn3_bias = new_dict['layer1.2.bn3.bias'].cpu().numpy()\n",
    "    layer1_2_bn3_running_mean = new_dict['layer1.2.bn3.running_mean'].cpu().numpy()\n",
    "    layer1_2_bn3_running_var = new_dict['layer1.2.bn3.running_var'].cpu().numpy()\n",
    "    layer1_2_bn3_fused_weight, layer1_2_bn3_fused_bias = fuse_bn(layer1_2_bn3_weight, layer1_2_bn3_bias, layer1_2_bn3_running_mean, layer1_2_bn3_running_var)\n",
    "    layer1_2_bn3_out = bn1(layer1_2_shortcut1_out, layer1_2_bn3_fused_weight, layer1_2_bn3_fused_bias)\n",
    "\n",
    "    layer1_2_binarize2_out = quant_sign(layer1_2_bn3_out)\n",
    "\n",
    "    layer1_2_conv2_weight = new_dict['layer1.2.conv2.weight'].cpu().numpy()\n",
    "    layer1_2_conv2_threshold = new_dict['layer1.2.conv2.threshold'].cpu().numpy()\n",
    "    layer1_2_pgconv2_out = layer1_0_pgconv1(layer1_2_binarize2_out, np.sign(layer1_2_conv2_weight), layer1_2_conv2_threshold)\n",
    "\n",
    "    layer1_2_bn2_weight = new_dict['layer1.2.bn2.weight'].cpu().numpy()\n",
    "    layer1_2_bn2_bias = new_dict['layer1.2.bn2.bias'].cpu().numpy()\n",
    "    layer1_2_bn2_running_mean = new_dict['layer1.2.bn2.running_mean'].cpu().numpy()\n",
    "    layer1_2_bn2_running_var = new_dict['layer1.2.bn2.running_var'].cpu().numpy()\n",
    "    layer1_2_bn2_fused_weight, layer1_2_bn2_fused_bias = fuse_bn(layer1_2_bn2_weight, layer1_2_bn2_bias, layer1_2_bn2_running_mean, layer1_2_bn2_running_var)\n",
    "    layer1_2_bn2_out = bn1(layer1_2_pgconv2_out, layer1_2_bn2_fused_weight, layer1_2_bn2_fused_bias)\n",
    "\n",
    "    layer1_2_rprelu2_shift_x_bias = new_dict['layer1.2.rprelu2.shift_x.bias'].cpu().numpy()\n",
    "    layer1_2_rprelu2_shift_y_bias = new_dict['layer1.2.rprelu2.shift_y.bias'].cpu().numpy()\n",
    "    layer1_2_rprelu2_prelu_weight = new_dict['layer1.2.rprelu2.prelu.weight'].cpu().numpy()\n",
    "    layer1_2_rprelu2_out = layer1_0_rprelu1(layer1_2_bn2_out, layer1_2_rprelu2_shift_x_bias, layer1_2_rprelu2_shift_y_bias, layer1_2_rprelu2_prelu_weight)\n",
    "\n",
    "    layer1_2_shortcut2_out = layer1_2_rprelu2_out + layer1_2_bn3_out\n",
    "\n",
    "    layer1_2_bn4_weight = new_dict['layer1.2.bn4.weight'].cpu().numpy()\n",
    "    layer1_2_bn4_bias = new_dict['layer1.2.bn4.bias'].cpu().numpy()\n",
    "    layer1_2_bn4_running_mean = new_dict['layer1.2.bn4.running_mean'].cpu().numpy()\n",
    "    layer1_2_bn4_running_var = new_dict['layer1.2.bn4.running_var'].cpu().numpy()\n",
    "    layer1_2_bn4_fused_weight, layer1_2_bn4_fused_bias = fuse_bn(layer1_2_bn4_weight, layer1_2_bn4_bias, layer1_2_bn4_running_mean, layer1_2_bn4_running_var)\n",
    "    layer1_2_bn4_out = bn1(layer1_2_shortcut2_out, layer1_2_bn4_fused_weight, layer1_2_bn4_fused_bias)\n",
    "\n",
    "#     print('layer1')\n",
    "#     print(layer1_2_bn4_out)\n",
    "\n",
    "    ###################################################################\n",
    "    ###################################################################\n",
    "    ###################################################################\n",
    "    ###################################################################\n",
    "    ###################################################################\n",
    "    ###################################################################\n",
    "    ###################################################################\n",
    "    ###################################################################\n",
    "    ###################################################################\n",
    "    ###################################################################\n",
    "    ###################################################################\n",
    "\n",
    "\n",
    "    layer2_0_binarize1_out = quant_sign(layer1_2_bn4_out)\n",
    "#     print('layer2_0_binarize1_out')\n",
    "#     print(layer2_0_binarize1_out)\n",
    "\n",
    "    layer2_0_conv1_weight = new_dict['layer2.0.conv1.weight'].cpu().numpy()\n",
    "    layer2_0_conv1_threshold = new_dict['layer2.0.conv1.threshold'].cpu().numpy()\n",
    "    layer2_0_pgconv1_out = layer2_0_pgconv1(layer2_0_binarize1_out, np.sign(layer2_0_conv1_weight), layer2_0_conv1_threshold)\n",
    "#     print('layer2_0_pgconv1_out')\n",
    "#     print(layer2_0_pgconv1_out)\n",
    "\n",
    "    layer2_0_bn1_weight = new_dict['layer2.0.bn1.weight'].cpu().numpy()\n",
    "    layer2_0_bn1_bias = new_dict['layer2.0.bn1.bias'].cpu().numpy()\n",
    "    layer2_0_bn1_running_mean = new_dict['layer2.0.bn1.running_mean'].cpu().numpy()\n",
    "    layer2_0_bn1_running_var = new_dict['layer2.0.bn1.running_var'].cpu().numpy()\n",
    "    layer2_0_bn1_fused_weight, layer2_0_bn1_fused_bias = fuse_bn(layer2_0_bn1_weight, layer2_0_bn1_bias, layer2_0_bn1_running_mean, layer2_0_bn1_running_var)\n",
    "    layer2_0_bn1_out = bn1(layer2_0_pgconv1_out, layer2_0_bn1_fused_weight, layer2_0_bn1_fused_bias)\n",
    "#     print('layer2_0_bn1_out')\n",
    "#     print(layer2_0_bn1_out)\n",
    "\n",
    "    layer2_0_rprelu1_shift_x_bias = new_dict['layer2.0.rprelu1.shift_x.bias'].cpu().numpy()\n",
    "    layer2_0_rprelu1_shift_y_bias = new_dict['layer2.0.rprelu1.shift_y.bias'].cpu().numpy()\n",
    "    layer2_0_rprelu1_prelu_weight = new_dict['layer2.0.rprelu1.prelu.weight'].cpu().numpy()\n",
    "    layer2_0_rprelu1_out = layer2_0_rprelu1(layer2_0_bn1_out, layer2_0_rprelu1_shift_x_bias, layer2_0_rprelu1_shift_y_bias, layer2_0_rprelu1_prelu_weight)\n",
    "\n",
    "    layer2_0_shortcut1_out = avgpool_concat(layer1_2_bn4_out)\n",
    "#     print('layer2_0_shortcut1_out')\n",
    "    # print(layer2_0_concat_out.shape)\n",
    "#     print(layer2_0_shortcut1_out)\n",
    "\n",
    "    layer2_0_concat_out = layer2_0_rprelu1_out + layer2_0_shortcut1_out\n",
    "#     print('layer2_0_concat_out')\n",
    "    # print(layer2_0_concat_out.shape)\n",
    "#     print(layer2_0_concat_out)\n",
    "\n",
    "    layer2_0_bn3_weight = new_dict['layer2.0.bn3.weight'].cpu().numpy()\n",
    "    layer2_0_bn3_bias = new_dict['layer2.0.bn3.bias'].cpu().numpy()\n",
    "    layer2_0_bn3_running_mean = new_dict['layer2.0.bn3.running_mean'].cpu().numpy()\n",
    "    layer2_0_bn3_running_var = new_dict['layer2.0.bn3.running_var'].cpu().numpy()\n",
    "    layer2_0_bn3_fused_weight, layer2_0_bn3_fused_bias = fuse_bn(layer2_0_bn3_weight, layer2_0_bn3_bias, layer2_0_bn3_running_mean, layer2_0_bn3_running_var)\n",
    "    layer2_0_bn3_out = bn1(layer2_0_concat_out, layer2_0_bn3_fused_weight, layer2_0_bn3_fused_bias)\n",
    "    # print('layer2_0_bn3_out')\n",
    "    # print(layer2_0_bn3_out.shape)\n",
    "    # print(layer2_0_bn3_out)\n",
    "\n",
    "    layer2_0_binarize2_out = quant_sign(layer2_0_bn3_out)\n",
    "\n",
    "    layer2_0_conv2_weight = new_dict['layer2.0.conv2.weight'].cpu().numpy()\n",
    "    layer2_0_conv2_threshold = new_dict['layer2.0.conv2.threshold'].cpu().numpy()\n",
    "    layer2_0_pgconv2_out = layer2_0_pgconv1(layer2_0_binarize2_out, np.sign(layer2_0_conv2_weight), layer2_0_conv2_threshold)\n",
    "\n",
    "    layer2_0_bn2_weight = new_dict['layer2.0.bn2.weight'].cpu().numpy()\n",
    "    layer2_0_bn2_bias = new_dict['layer2.0.bn2.bias'].cpu().numpy()\n",
    "    layer2_0_bn2_running_mean = new_dict['layer2.0.bn2.running_mean'].cpu().numpy()\n",
    "    layer2_0_bn2_running_var = new_dict['layer2.0.bn2.running_var'].cpu().numpy()\n",
    "    layer2_0_bn2_fused_weight, layer2_0_bn2_fused_bias = fuse_bn(layer2_0_bn2_weight, layer2_0_bn2_bias, layer2_0_bn2_running_mean, layer2_0_bn2_running_var)\n",
    "    layer2_0_bn2_out = bn1(layer2_0_pgconv2_out, layer2_0_bn2_fused_weight, layer2_0_bn2_fused_bias)\n",
    "\n",
    "    layer2_0_rprelu2_shift_x_bias = new_dict['layer2.0.rprelu2.shift_x.bias'].cpu().numpy()\n",
    "    layer2_0_rprelu2_shift_y_bias = new_dict['layer2.0.rprelu2.shift_y.bias'].cpu().numpy()\n",
    "    layer2_0_rprelu2_prelu_weight = new_dict['layer2.0.rprelu2.prelu.weight'].cpu().numpy()\n",
    "    layer2_0_rprelu2_out = layer2_0_rprelu1(layer2_0_bn2_out, layer2_0_rprelu2_shift_x_bias, layer2_0_rprelu2_shift_y_bias, layer2_0_rprelu2_prelu_weight)\n",
    "\n",
    "    layer2_0_shortcut2_out = layer2_0_rprelu2_out + layer2_0_bn3_out\n",
    "    # print('layer2_0_shortcut2_out')\n",
    "    # print(layer2_0_shortcut2_out.shape)\n",
    "    # print(layer2_0_shortcut2_out)\n",
    "\n",
    "    layer2_0_bn4_weight = new_dict['layer2.0.bn4.weight'].cpu().numpy()\n",
    "    layer2_0_bn4_bias = new_dict['layer2.0.bn4.bias'].cpu().numpy()\n",
    "    layer2_0_bn4_running_mean = new_dict['layer2.0.bn4.running_mean'].cpu().numpy()\n",
    "    layer2_0_bn4_running_var = new_dict['layer2.0.bn4.running_var'].cpu().numpy()\n",
    "    layer2_0_bn4_fused_weight, layer2_0_bn4_fused_bias = fuse_bn(layer2_0_bn4_weight, layer2_0_bn4_bias, layer2_0_bn4_running_mean, layer2_0_bn4_running_var)\n",
    "    layer2_0_bn4_out = bn1(layer2_0_shortcut2_out, layer2_0_bn4_fused_weight, layer2_0_bn4_fused_bias)\n",
    "    # print('layer2_0_bn4_out')\n",
    "    # print(layer2_0_bn4_out.shape)\n",
    "#     print(layer2_0_bn4_out)\n",
    "\n",
    "    layer2_1_binarize1_out = quant_sign(layer2_0_bn4_out)\n",
    "\n",
    "    layer2_1_conv1_weight = new_dict['layer2.1.conv1.weight'].cpu().numpy()\n",
    "    layer2_1_conv1_threshold = new_dict['layer2.1.conv1.threshold'].cpu().numpy()\n",
    "    layer2_1_pgconv1_out = layer2_0_pgconv1(layer2_1_binarize1_out, np.sign(layer2_1_conv1_weight), layer2_1_conv1_threshold)\n",
    "\n",
    "    layer2_1_bn1_weight = new_dict['layer2.1.bn1.weight'].cpu().numpy()\n",
    "    layer2_1_bn1_bias = new_dict['layer2.1.bn1.bias'].cpu().numpy()\n",
    "    layer2_1_bn1_running_mean = new_dict['layer2.1.bn1.running_mean'].cpu().numpy()\n",
    "    layer2_1_bn1_running_var = new_dict['layer2.1.bn1.running_var'].cpu().numpy()\n",
    "    layer2_1_bn1_fused_weight, layer2_1_bn1_fused_bias = fuse_bn(layer2_1_bn1_weight, layer2_1_bn1_bias, layer2_1_bn1_running_mean, layer2_1_bn1_running_var)\n",
    "    layer2_1_bn1_out = bn1(layer2_1_pgconv1_out, layer2_1_bn1_fused_weight, layer2_1_bn1_fused_bias)\n",
    "\n",
    "    layer2_1_rprelu1_shift_x_bias = new_dict['layer2.1.rprelu1.shift_x.bias'].cpu().numpy()\n",
    "    layer2_1_rprelu1_shift_y_bias = new_dict['layer2.1.rprelu1.shift_y.bias'].cpu().numpy()\n",
    "    layer2_1_rprelu1_prelu_weight = new_dict['layer2.1.rprelu1.prelu.weight'].cpu().numpy()\n",
    "    layer2_1_rprelu1_out = layer2_0_rprelu1(layer2_1_bn1_out, layer2_1_rprelu1_shift_x_bias, layer2_1_rprelu1_shift_y_bias, layer2_1_rprelu1_prelu_weight)\n",
    "\n",
    "    layer2_1_shortcut1_out = layer2_1_rprelu1_out + layer2_0_bn4_out\n",
    "\n",
    "    layer2_1_bn3_weight = new_dict['layer2.1.bn3.weight'].cpu().numpy()\n",
    "    layer2_1_bn3_bias = new_dict['layer2.1.bn3.bias'].cpu().numpy()\n",
    "    layer2_1_bn3_running_mean = new_dict['layer2.1.bn3.running_mean'].cpu().numpy()\n",
    "    layer2_1_bn3_running_var = new_dict['layer2.1.bn3.running_var'].cpu().numpy()\n",
    "    layer2_1_bn3_fused_weight, layer2_1_bn3_fused_bias = fuse_bn(layer2_1_bn3_weight, layer2_1_bn3_bias, layer2_1_bn3_running_mean, layer2_1_bn3_running_var)\n",
    "    layer2_1_bn3_out = bn1(layer2_1_shortcut1_out, layer2_1_bn3_fused_weight, layer2_1_bn3_fused_bias)\n",
    "    # print('layer2_1_bn3_out')\n",
    "    # print(layer2_1_bn3_out.shape)\n",
    "    # print(layer2_1_bn3_out)\n",
    "\n",
    "    layer2_1_binarize2_out = quant_sign(layer2_1_bn3_out)\n",
    "\n",
    "    layer2_1_conv2_weight = new_dict['layer2.1.conv2.weight'].cpu().numpy()\n",
    "    layer2_1_conv2_threshold = new_dict['layer2.1.conv2.threshold'].cpu().numpy()\n",
    "    layer2_1_pgconv2_out = layer2_0_pgconv1(layer2_1_binarize2_out, np.sign(layer2_1_conv2_weight), layer2_1_conv2_threshold)\n",
    "\n",
    "    layer2_1_bn2_weight = new_dict['layer2.1.bn2.weight'].cpu().numpy()\n",
    "    layer2_1_bn2_bias = new_dict['layer2.1.bn2.bias'].cpu().numpy()\n",
    "    layer2_1_bn2_running_mean = new_dict['layer2.1.bn2.running_mean'].cpu().numpy()\n",
    "    layer2_1_bn2_running_var = new_dict['layer2.1.bn2.running_var'].cpu().numpy()\n",
    "    layer2_1_bn2_fused_weight, layer2_1_bn2_fused_bias = fuse_bn(layer2_1_bn2_weight, layer2_1_bn2_bias, layer2_1_bn2_running_mean, layer2_1_bn2_running_var)\n",
    "    layer2_1_bn2_out = bn1(layer2_1_pgconv2_out, layer2_1_bn2_fused_weight, layer2_1_bn2_fused_bias)\n",
    "\n",
    "    layer2_1_rprelu2_shift_x_bias = new_dict['layer2.1.rprelu2.shift_x.bias'].cpu().numpy()\n",
    "    layer2_1_rprelu2_shift_y_bias = new_dict['layer2.1.rprelu2.shift_y.bias'].cpu().numpy()\n",
    "    layer2_1_rprelu2_prelu_weight = new_dict['layer2.1.rprelu2.prelu.weight'].cpu().numpy()\n",
    "    layer2_1_rprelu2_out = layer2_0_rprelu1(layer2_1_bn2_out, layer2_1_rprelu2_shift_x_bias, layer2_1_rprelu2_shift_y_bias, layer2_1_rprelu2_prelu_weight)\n",
    "\n",
    "    layer2_1_shortcut2_out = layer2_1_rprelu2_out + layer2_1_bn3_out\n",
    "\n",
    "    layer2_1_bn4_weight = new_dict['layer2.1.bn4.weight'].cpu().numpy()\n",
    "    layer2_1_bn4_bias = new_dict['layer2.1.bn4.bias'].cpu().numpy()\n",
    "    layer2_1_bn4_running_mean = new_dict['layer2.1.bn4.running_mean'].cpu().numpy()\n",
    "    layer2_1_bn4_running_var = new_dict['layer2.1.bn4.running_var'].cpu().numpy()\n",
    "    layer2_1_bn4_fused_weight, layer2_1_bn4_fused_bias = fuse_bn(layer2_1_bn4_weight, layer2_1_bn4_bias, layer2_1_bn4_running_mean, layer2_1_bn4_running_var)\n",
    "    layer2_1_bn4_out = bn1(layer2_1_shortcut2_out, layer2_1_bn4_fused_weight, layer2_1_bn4_fused_bias)\n",
    "#     print('layer2_1_bn4_out')\n",
    "    # print(layer2_1_bn4_out.shape)\n",
    "#     print(layer2_1_bn4_out)\n",
    "\n",
    "    layer2_2_binarize1_out = quant_sign(layer2_1_bn4_out)\n",
    "\n",
    "    layer2_2_conv1_weight = new_dict['layer2.2.conv1.weight'].cpu().numpy()\n",
    "    layer2_2_conv1_threshold = new_dict['layer2.2.conv1.threshold'].cpu().numpy()\n",
    "    layer2_2_pgconv1_out = layer2_0_pgconv1(layer2_2_binarize1_out, np.sign(layer2_2_conv1_weight), layer2_2_conv1_threshold)\n",
    "\n",
    "    layer2_2_bn1_weight = new_dict['layer2.2.bn1.weight'].cpu().numpy()\n",
    "    layer2_2_bn1_bias = new_dict['layer2.2.bn1.bias'].cpu().numpy()\n",
    "    layer2_2_bn1_running_mean = new_dict['layer2.2.bn1.running_mean'].cpu().numpy()\n",
    "    layer2_2_bn1_running_var = new_dict['layer2.2.bn1.running_var'].cpu().numpy()\n",
    "    layer2_2_bn1_fused_weight, layer2_2_bn1_fused_bias = fuse_bn(layer2_2_bn1_weight, layer2_2_bn1_bias, layer2_2_bn1_running_mean, layer2_2_bn1_running_var)\n",
    "    layer2_2_bn1_out = bn1(layer2_2_pgconv1_out, layer2_2_bn1_fused_weight, layer2_2_bn1_fused_bias)\n",
    "\n",
    "    layer2_2_rprelu1_shift_x_bias = new_dict['layer2.2.rprelu1.shift_x.bias'].cpu().numpy()\n",
    "    layer2_2_rprelu1_shift_y_bias = new_dict['layer2.2.rprelu1.shift_y.bias'].cpu().numpy()\n",
    "    layer2_2_rprelu1_prelu_weight = new_dict['layer2.2.rprelu1.prelu.weight'].cpu().numpy()\n",
    "    layer2_2_rprelu1_out = layer2_0_rprelu1(layer2_2_bn1_out, layer2_2_rprelu1_shift_x_bias, layer2_2_rprelu1_shift_y_bias, layer2_2_rprelu1_prelu_weight)\n",
    "\n",
    "    layer2_2_shortcut1_out = layer2_2_rprelu1_out + layer2_1_bn4_out\n",
    "\n",
    "    layer2_2_bn3_weight = new_dict['layer2.2.bn3.weight'].cpu().numpy()\n",
    "    layer2_2_bn3_bias = new_dict['layer2.2.bn3.bias'].cpu().numpy()\n",
    "    layer2_2_bn3_running_mean = new_dict['layer2.2.bn3.running_mean'].cpu().numpy()\n",
    "    layer2_2_bn3_running_var = new_dict['layer2.2.bn3.running_var'].cpu().numpy()\n",
    "    layer2_2_bn3_fused_weight, layer2_2_bn3_fused_bias = fuse_bn(layer2_2_bn3_weight, layer2_2_bn3_bias, layer2_2_bn3_running_mean, layer2_2_bn3_running_var)\n",
    "    layer2_2_bn3_out = bn1(layer2_2_shortcut1_out, layer2_2_bn3_fused_weight, layer2_2_bn3_fused_bias)\n",
    "    # print('layer2_2_bn3_out')\n",
    "    # print(layer2_2_bn3_out.shape)\n",
    "    # print(layer2_2_bn3_out)\n",
    "\n",
    "    layer2_2_binarize2_out = quant_sign(layer2_2_bn3_out)\n",
    "\n",
    "    layer2_2_conv2_weight = new_dict['layer2.2.conv2.weight'].cpu().numpy()\n",
    "    layer2_2_conv2_threshold = new_dict['layer2.2.conv2.threshold'].cpu().numpy()\n",
    "    layer2_2_pgconv2_out = layer2_0_pgconv1(layer2_2_binarize2_out, np.sign(layer2_2_conv2_weight), layer2_2_conv2_threshold)\n",
    "\n",
    "    layer2_2_bn2_weight = new_dict['layer2.2.bn2.weight'].cpu().numpy()\n",
    "    layer2_2_bn2_bias = new_dict['layer2.2.bn2.bias'].cpu().numpy()\n",
    "    layer2_2_bn2_running_mean = new_dict['layer2.2.bn2.running_mean'].cpu().numpy()\n",
    "    layer2_2_bn2_running_var = new_dict['layer2.2.bn2.running_var'].cpu().numpy()\n",
    "    layer2_2_bn2_fused_weight, layer2_2_bn2_fused_bias = fuse_bn(layer2_2_bn2_weight, layer2_2_bn2_bias, layer2_2_bn2_running_mean, layer2_2_bn2_running_var)\n",
    "    layer2_2_bn2_out = bn1(layer2_2_pgconv2_out, layer2_2_bn2_fused_weight, layer2_2_bn2_fused_bias)\n",
    "\n",
    "    layer2_2_rprelu2_shift_x_bias = new_dict['layer2.2.rprelu2.shift_x.bias'].cpu().numpy()\n",
    "    layer2_2_rprelu2_shift_y_bias = new_dict['layer2.2.rprelu2.shift_y.bias'].cpu().numpy()\n",
    "    layer2_2_rprelu2_prelu_weight = new_dict['layer2.2.rprelu2.prelu.weight'].cpu().numpy()\n",
    "    layer2_2_rprelu2_out = layer2_0_rprelu1(layer2_2_bn2_out, layer2_2_rprelu2_shift_x_bias, layer2_2_rprelu2_shift_y_bias, layer2_2_rprelu2_prelu_weight)\n",
    "\n",
    "    layer2_2_shortcut2_out = layer2_2_rprelu2_out + layer2_2_bn3_out\n",
    "\n",
    "    layer2_2_bn4_weight = new_dict['layer2.2.bn4.weight'].cpu().numpy()\n",
    "    layer2_2_bn4_bias = new_dict['layer2.2.bn4.bias'].cpu().numpy()\n",
    "    layer2_2_bn4_running_mean = new_dict['layer2.2.bn4.running_mean'].cpu().numpy()\n",
    "    layer2_2_bn4_running_var = new_dict['layer2.2.bn4.running_var'].cpu().numpy()\n",
    "    layer2_2_bn4_fused_weight, layer2_2_bn4_fused_bias = fuse_bn(layer2_2_bn4_weight, layer2_2_bn4_bias, layer2_2_bn4_running_mean, layer2_2_bn4_running_var)\n",
    "    layer2_2_bn4_out = bn1(layer2_2_shortcut2_out, layer2_2_bn4_fused_weight, layer2_2_bn4_fused_bias)\n",
    "\n",
    "    # print('layer2_2_bn4_out')\n",
    "    # print(layer2_2_bn4_out.shape)\n",
    "    # print(layer2_2_bn4_out)\n",
    "\n",
    "    ###################################################################\n",
    "    ###################################################################\n",
    "    ###################################################################\n",
    "    ###################################################################\n",
    "    ###################################################################\n",
    "    ###################################################################\n",
    "    ###################################################################\n",
    "    ###################################################################\n",
    "    ###################################################################\n",
    "    ###################################################################\n",
    "    ###################################################################\n",
    "\n",
    "    layer3_0_binarize1_out = quant_sign(layer2_2_bn4_out)\n",
    "\n",
    "    layer3_0_conv1_weight = new_dict['layer3.0.conv1.weight'].cpu().numpy()\n",
    "    layer3_0_conv1_threshold = new_dict['layer3.0.conv1.threshold'].cpu().numpy()\n",
    "    layer3_0_pgconv1_out = layer3_0_pgconv1(layer3_0_binarize1_out, np.sign(layer3_0_conv1_weight), layer3_0_conv1_threshold)\n",
    "\n",
    "    layer3_0_bn1_weight = new_dict['layer3.0.bn1.weight'].cpu().numpy()\n",
    "    layer3_0_bn1_bias = new_dict['layer3.0.bn1.bias'].cpu().numpy()\n",
    "    layer3_0_bn1_running_mean = new_dict['layer3.0.bn1.running_mean'].cpu().numpy()\n",
    "    layer3_0_bn1_running_var = new_dict['layer3.0.bn1.running_var'].cpu().numpy()\n",
    "    layer3_0_bn1_fused_weight, layer3_0_bn1_fused_bias = fuse_bn(layer3_0_bn1_weight, layer3_0_bn1_bias, layer3_0_bn1_running_mean, layer3_0_bn1_running_var)\n",
    "    layer3_0_bn1_out = bn1(layer3_0_pgconv1_out, layer3_0_bn1_fused_weight, layer3_0_bn1_fused_bias)\n",
    "\n",
    "    layer3_0_rprelu1_shift_x_bias = new_dict['layer3.0.rprelu1.shift_x.bias'].cpu().numpy()\n",
    "    layer3_0_rprelu1_shift_y_bias = new_dict['layer3.0.rprelu1.shift_y.bias'].cpu().numpy()\n",
    "    layer3_0_rprelu1_prelu_weight = new_dict['layer3.0.rprelu1.prelu.weight'].cpu().numpy()\n",
    "    layer3_0_rprelu1_out = layer3_0_rprelu1(layer3_0_bn1_out, layer3_0_rprelu1_shift_x_bias, layer3_0_rprelu1_shift_y_bias, layer3_0_rprelu1_prelu_weight)\n",
    "\n",
    "    layer3_0_shortcut1_out = avgpool_concat(layer2_2_bn4_out)\n",
    "\n",
    "    layer3_0_concat_out = layer3_0_rprelu1_out + layer3_0_shortcut1_out\n",
    "    # print('layer3_0_concat_out')\n",
    "    # print(layer3_0_concat_out.shape)\n",
    "    # print(layer3_0_concat_out)\n",
    "\n",
    "    layer3_0_bn3_weight = new_dict['layer3.0.bn3.weight'].cpu().numpy()\n",
    "    layer3_0_bn3_bias = new_dict['layer3.0.bn3.bias'].cpu().numpy()\n",
    "    layer3_0_bn3_running_mean = new_dict['layer3.0.bn3.running_mean'].cpu().numpy()\n",
    "    layer3_0_bn3_running_var = new_dict['layer3.0.bn3.running_var'].cpu().numpy()\n",
    "    layer3_0_bn3_fused_weight, layer3_0_bn3_fused_bias = fuse_bn(layer3_0_bn3_weight, layer3_0_bn3_bias, layer3_0_bn3_running_mean, layer3_0_bn3_running_var)\n",
    "    layer3_0_bn3_out = bn1(layer3_0_concat_out, layer3_0_bn3_fused_weight, layer3_0_bn3_fused_bias)\n",
    "    # print('layer3_0_bn3_out')\n",
    "    # print(layer3_0_bn3_out.shape)\n",
    "    # print(layer3_0_bn3_out)\n",
    "\n",
    "    layer3_0_binarize2_out = quant_sign(layer3_0_bn3_out)\n",
    "\n",
    "    layer3_0_conv2_weight = new_dict['layer3.0.conv2.weight'].cpu().numpy()\n",
    "    layer3_0_conv2_threshold = new_dict['layer3.0.conv2.threshold'].cpu().numpy()\n",
    "    layer3_0_pgconv2_out = layer3_0_pgconv1(layer3_0_binarize2_out, np.sign(layer3_0_conv2_weight), layer3_0_conv2_threshold)\n",
    "\n",
    "    layer3_0_bn2_weight = new_dict['layer3.0.bn2.weight'].cpu().numpy()\n",
    "    layer3_0_bn2_bias = new_dict['layer3.0.bn2.bias'].cpu().numpy()\n",
    "    layer3_0_bn2_running_mean = new_dict['layer3.0.bn2.running_mean'].cpu().numpy()\n",
    "    layer3_0_bn2_running_var = new_dict['layer3.0.bn2.running_var'].cpu().numpy()\n",
    "    layer3_0_bn2_fused_weight, layer3_0_bn2_fused_bias = fuse_bn(layer3_0_bn2_weight, layer3_0_bn2_bias, layer3_0_bn2_running_mean, layer3_0_bn2_running_var)\n",
    "    layer3_0_bn2_out = bn1(layer3_0_pgconv2_out, layer3_0_bn2_fused_weight, layer3_0_bn2_fused_bias)\n",
    "\n",
    "    layer3_0_rprelu2_shift_x_bias = new_dict['layer3.0.rprelu2.shift_x.bias'].cpu().numpy()\n",
    "    layer3_0_rprelu2_shift_y_bias = new_dict['layer3.0.rprelu2.shift_y.bias'].cpu().numpy()\n",
    "    layer3_0_rprelu2_prelu_weight = new_dict['layer3.0.rprelu2.prelu.weight'].cpu().numpy()\n",
    "    layer3_0_rprelu2_out = layer3_0_rprelu1(layer3_0_bn2_out, layer3_0_rprelu2_shift_x_bias, layer3_0_rprelu2_shift_y_bias, layer3_0_rprelu2_prelu_weight)\n",
    "\n",
    "    layer3_0_shortcut2_out = layer3_0_rprelu2_out + layer3_0_bn3_out\n",
    "    # print('layer3_0_shortcut2_out')\n",
    "    # print(layer3_0_shortcut2_out.shape)\n",
    "    # print(layer3_0_shortcut2_out)\n",
    "\n",
    "    layer3_0_bn4_weight = new_dict['layer3.0.bn4.weight'].cpu().numpy()\n",
    "    layer3_0_bn4_bias = new_dict['layer3.0.bn4.bias'].cpu().numpy()\n",
    "    layer3_0_bn4_running_mean = new_dict['layer3.0.bn4.running_mean'].cpu().numpy()\n",
    "    layer3_0_bn4_running_var = new_dict['layer3.0.bn4.running_var'].cpu().numpy()\n",
    "    layer3_0_bn4_fused_weight, layer3_0_bn4_fused_bias = fuse_bn(layer3_0_bn4_weight, layer3_0_bn4_bias, layer3_0_bn4_running_mean, layer3_0_bn4_running_var)\n",
    "    layer3_0_bn4_out = bn1(layer3_0_shortcut2_out, layer3_0_bn4_fused_weight, layer3_0_bn4_fused_bias)\n",
    "    # print('layer3_0_bn4_out')\n",
    "    # print(layer3_0_bn4_out.shape)\n",
    "    # print(layer3_0_bn4_out)\n",
    "\n",
    "    layer3_1_binarize1_out = quant_sign(layer3_0_bn4_out)\n",
    "\n",
    "    layer3_1_conv1_weight = new_dict['layer3.1.conv1.weight'].cpu().numpy()\n",
    "    layer3_1_conv1_threshold = new_dict['layer3.1.conv1.threshold'].cpu().numpy()\n",
    "    layer3_1_pgconv1_out = layer3_0_pgconv1(layer3_1_binarize1_out, np.sign(layer3_1_conv1_weight), layer3_1_conv1_threshold)\n",
    "\n",
    "    layer3_1_bn1_weight = new_dict['layer3.1.bn1.weight'].cpu().numpy()\n",
    "    layer3_1_bn1_bias = new_dict['layer3.1.bn1.bias'].cpu().numpy()\n",
    "    layer3_1_bn1_running_mean = new_dict['layer3.1.bn1.running_mean'].cpu().numpy()\n",
    "    layer3_1_bn1_running_var = new_dict['layer3.1.bn1.running_var'].cpu().numpy()\n",
    "    layer3_1_bn1_fused_weight, layer3_1_bn1_fused_bias = fuse_bn(layer3_1_bn1_weight, layer3_1_bn1_bias, layer3_1_bn1_running_mean, layer3_1_bn1_running_var)\n",
    "    layer3_1_bn1_out = bn1(layer3_1_pgconv1_out, layer3_1_bn1_fused_weight, layer3_1_bn1_fused_bias)\n",
    "\n",
    "    layer3_1_rprelu1_shift_x_bias = new_dict['layer3.1.rprelu1.shift_x.bias'].cpu().numpy()\n",
    "    layer3_1_rprelu1_shift_y_bias = new_dict['layer3.1.rprelu1.shift_y.bias'].cpu().numpy()\n",
    "    layer3_1_rprelu1_prelu_weight = new_dict['layer3.1.rprelu1.prelu.weight'].cpu().numpy()\n",
    "    layer3_1_rprelu1_out = layer3_0_rprelu1(layer3_1_bn1_out, layer3_1_rprelu1_shift_x_bias, layer3_1_rprelu1_shift_y_bias, layer3_1_rprelu1_prelu_weight)\n",
    "\n",
    "    layer3_1_shortcut1_out = layer3_1_rprelu1_out + layer3_0_bn4_out\n",
    "\n",
    "    layer3_1_bn3_weight = new_dict['layer3.1.bn3.weight'].cpu().numpy()\n",
    "    layer3_1_bn3_bias = new_dict['layer3.1.bn3.bias'].cpu().numpy()\n",
    "    layer3_1_bn3_running_mean = new_dict['layer3.1.bn3.running_mean'].cpu().numpy()\n",
    "    layer3_1_bn3_running_var = new_dict['layer3.1.bn3.running_var'].cpu().numpy()\n",
    "    layer3_1_bn3_fused_weight, layer3_1_bn3_fused_bias = fuse_bn(layer3_1_bn3_weight, layer3_1_bn3_bias, layer3_1_bn3_running_mean, layer3_1_bn3_running_var)\n",
    "    layer3_1_bn3_out = bn1(layer3_1_shortcut1_out, layer3_1_bn3_fused_weight, layer3_1_bn3_fused_bias)\n",
    "    # print('layer3_1_bn3_out')\n",
    "    # print(layer3_1_bn3_out.shape)\n",
    "    # print(layer3_1_bn3_out)\n",
    "\n",
    "    layer3_1_binarize2_out = quant_sign(layer3_1_bn3_out)\n",
    "\n",
    "    layer3_1_conv2_weight = new_dict['layer3.1.conv2.weight'].cpu().numpy()\n",
    "    layer3_1_conv2_threshold = new_dict['layer3.1.conv2.threshold'].cpu().numpy()\n",
    "    layer3_1_pgconv2_out = layer3_0_pgconv1(layer3_1_binarize2_out, np.sign(layer3_1_conv2_weight), layer3_1_conv2_threshold)\n",
    "\n",
    "    layer3_1_bn2_weight = new_dict['layer3.1.bn2.weight'].cpu().numpy()\n",
    "    layer3_1_bn2_bias = new_dict['layer3.1.bn2.bias'].cpu().numpy()\n",
    "    layer3_1_bn2_running_mean = new_dict['layer3.1.bn2.running_mean'].cpu().numpy()\n",
    "    layer3_1_bn2_running_var = new_dict['layer3.1.bn2.running_var'].cpu().numpy()\n",
    "    layer3_1_bn2_fused_weight, layer3_1_bn2_fused_bias = fuse_bn(layer3_1_bn2_weight, layer3_1_bn2_bias, layer3_1_bn2_running_mean, layer3_1_bn2_running_var)\n",
    "    layer3_1_bn2_out = bn1(layer3_1_pgconv2_out, layer3_1_bn2_fused_weight, layer3_1_bn2_fused_bias)\n",
    "\n",
    "    layer3_1_rprelu2_shift_x_bias = new_dict['layer3.1.rprelu2.shift_x.bias'].cpu().numpy()\n",
    "    layer3_1_rprelu2_shift_y_bias = new_dict['layer3.1.rprelu2.shift_y.bias'].cpu().numpy()\n",
    "    layer3_1_rprelu2_prelu_weight = new_dict['layer3.1.rprelu2.prelu.weight'].cpu().numpy()\n",
    "    layer3_1_rprelu2_out = layer3_0_rprelu1(layer3_1_bn2_out, layer3_1_rprelu2_shift_x_bias, layer3_1_rprelu2_shift_y_bias, layer3_1_rprelu2_prelu_weight)\n",
    "\n",
    "    layer3_1_shortcut2_out = layer3_1_rprelu2_out + layer3_1_bn3_out\n",
    "\n",
    "    layer3_1_bn4_weight = new_dict['layer3.1.bn4.weight'].cpu().numpy()\n",
    "    layer3_1_bn4_bias = new_dict['layer3.1.bn4.bias'].cpu().numpy()\n",
    "    layer3_1_bn4_running_mean = new_dict['layer3.1.bn4.running_mean'].cpu().numpy()\n",
    "    layer3_1_bn4_running_var = new_dict['layer3.1.bn4.running_var'].cpu().numpy()\n",
    "    layer3_1_bn4_fused_weight, layer3_1_bn4_fused_bias = fuse_bn(layer3_1_bn4_weight, layer3_1_bn4_bias, layer3_1_bn4_running_mean, layer3_1_bn4_running_var)\n",
    "    layer3_1_bn4_out = bn1(layer3_1_shortcut2_out, layer3_1_bn4_fused_weight, layer3_1_bn4_fused_bias)\n",
    "    # print('layer3_1_bn4_out')\n",
    "    # print(layer3_1_bn4_out.shape)\n",
    "    # print(layer3_1_bn4_out)\n",
    "\n",
    "    layer3_2_binarize1_out = quant_sign(layer3_1_bn4_out)\n",
    "\n",
    "    layer3_2_conv1_weight = new_dict['layer3.2.conv1.weight'].cpu().numpy()\n",
    "    layer3_2_conv1_threshold = new_dict['layer3.2.conv1.threshold'].cpu().numpy()\n",
    "    layer3_2_pgconv1_out = layer3_0_pgconv1(layer3_2_binarize1_out, np.sign(layer3_2_conv1_weight), layer3_2_conv1_threshold)\n",
    "\n",
    "    layer3_2_bn1_weight = new_dict['layer3.2.bn1.weight'].cpu().numpy()\n",
    "    layer3_2_bn1_bias = new_dict['layer3.2.bn1.bias'].cpu().numpy()\n",
    "    layer3_2_bn1_running_mean = new_dict['layer3.2.bn1.running_mean'].cpu().numpy()\n",
    "    layer3_2_bn1_running_var = new_dict['layer3.2.bn1.running_var'].cpu().numpy()\n",
    "    layer3_2_bn1_fused_weight, layer3_2_bn1_fused_bias = fuse_bn(layer3_2_bn1_weight, layer3_2_bn1_bias, layer3_2_bn1_running_mean, layer3_2_bn1_running_var)\n",
    "    layer3_2_bn1_out = bn1(layer3_2_pgconv1_out, layer3_2_bn1_fused_weight, layer3_2_bn1_fused_bias)\n",
    "\n",
    "    layer3_2_rprelu1_shift_x_bias = new_dict['layer3.2.rprelu1.shift_x.bias'].cpu().numpy()\n",
    "    layer3_2_rprelu1_shift_y_bias = new_dict['layer3.2.rprelu1.shift_y.bias'].cpu().numpy()\n",
    "    layer3_2_rprelu1_prelu_weight = new_dict['layer3.2.rprelu1.prelu.weight'].cpu().numpy()\n",
    "    layer3_2_rprelu1_out = layer3_0_rprelu1(layer3_2_bn1_out, layer3_2_rprelu1_shift_x_bias, layer3_2_rprelu1_shift_y_bias, layer3_2_rprelu1_prelu_weight)\n",
    "\n",
    "    layer3_2_shortcut1_out = layer3_2_rprelu1_out + layer3_1_bn4_out\n",
    "\n",
    "    layer3_2_bn3_weight = new_dict['layer3.2.bn3.weight'].cpu().numpy()\n",
    "    layer3_2_bn3_bias = new_dict['layer3.2.bn3.bias'].cpu().numpy()\n",
    "    layer3_2_bn3_running_mean = new_dict['layer3.2.bn3.running_mean'].cpu().numpy()\n",
    "    layer3_2_bn3_running_var = new_dict['layer3.2.bn3.running_var'].cpu().numpy()\n",
    "    layer3_2_bn3_fused_weight, layer3_2_bn3_fused_bias = fuse_bn(layer3_2_bn3_weight, layer3_2_bn3_bias, layer3_2_bn3_running_mean, layer3_2_bn3_running_var)\n",
    "    layer3_2_bn3_out = bn1(layer3_2_shortcut1_out, layer3_2_bn3_fused_weight, layer3_2_bn3_fused_bias)\n",
    "    # print('layer3_2_bn3_out')\n",
    "    # print(layer3_2_bn3_out.shape)\n",
    "    # print(layer3_2_bn3_out)\n",
    "\n",
    "    layer3_2_binarize2_out = quant_sign(layer3_2_bn3_out)\n",
    "\n",
    "    layer3_2_conv2_weight = new_dict['layer3.2.conv2.weight'].cpu().numpy()\n",
    "    layer3_2_conv2_threshold = new_dict['layer3.2.conv2.threshold'].cpu().numpy()\n",
    "    layer3_2_pgconv2_out = layer3_0_pgconv1(layer3_2_binarize2_out, np.sign(layer3_2_conv2_weight), layer3_2_conv2_threshold)\n",
    "\n",
    "    layer3_2_bn2_weight = new_dict['layer3.2.bn2.weight'].cpu().numpy()\n",
    "    layer3_2_bn2_bias = new_dict['layer3.2.bn2.bias'].cpu().numpy()\n",
    "    layer3_2_bn2_running_mean = new_dict['layer3.2.bn2.running_mean'].cpu().numpy()\n",
    "    layer3_2_bn2_running_var = new_dict['layer3.2.bn2.running_var'].cpu().numpy()\n",
    "    layer3_2_bn2_fused_weight, layer3_2_bn2_fused_bias = fuse_bn(layer3_2_bn2_weight, layer3_2_bn2_bias, layer3_2_bn2_running_mean, layer3_2_bn2_running_var)\n",
    "    layer3_2_bn2_out = bn1(layer3_2_pgconv2_out, layer3_2_bn2_fused_weight, layer3_2_bn2_fused_bias)\n",
    "\n",
    "    layer3_2_rprelu2_shift_x_bias = new_dict['layer3.2.rprelu2.shift_x.bias'].cpu().numpy()\n",
    "    layer3_2_rprelu2_shift_y_bias = new_dict['layer3.2.rprelu2.shift_y.bias'].cpu().numpy()\n",
    "    layer3_2_rprelu2_prelu_weight = new_dict['layer3.2.rprelu2.prelu.weight'].cpu().numpy()\n",
    "    layer3_2_rprelu2_out = layer3_0_rprelu1(layer3_2_bn2_out, layer3_2_rprelu2_shift_x_bias, layer3_2_rprelu2_shift_y_bias, layer3_2_rprelu2_prelu_weight)\n",
    "\n",
    "    layer3_2_shortcut2_out = layer3_2_rprelu2_out + layer3_2_bn3_out\n",
    "\n",
    "    layer3_2_bn4_weight = new_dict['layer3.2.bn4.weight'].cpu().numpy()\n",
    "    layer3_2_bn4_bias = new_dict['layer3.2.bn4.bias'].cpu().numpy()\n",
    "    layer3_2_bn4_running_mean = new_dict['layer3.2.bn4.running_mean'].cpu().numpy()\n",
    "    layer3_2_bn4_running_var = new_dict['layer3.2.bn4.running_var'].cpu().numpy()\n",
    "    layer3_2_bn4_fused_weight, layer3_2_bn4_fused_bias = fuse_bn(layer3_2_bn4_weight, layer3_2_bn4_bias, layer3_2_bn4_running_mean, layer3_2_bn4_running_var)\n",
    "    layer3_2_bn4_out = bn1(layer3_2_shortcut2_out, layer3_2_bn4_fused_weight, layer3_2_bn4_fused_bias)\n",
    "\n",
    "#     print('layer3_2_bn4_out')\n",
    "    # print(layer3_2_bn4_out.shape)\n",
    "#     print(layer3_2_bn4_out)\n",
    "\n",
    "    avgpool_out = avgpool(layer3_2_bn4_out)\n",
    "#     print(avgpool_out)\n",
    "    linear_weight = new_dict['linear.weight'].cpu().numpy()\n",
    "    linear_bias = new_dict['linear.bias'].cpu().numpy()\n",
    "    out = np.matmul(linear_weight, avgpool_out) + linear_bias\n",
    "#     print(out)\n",
    "    return (np.argmax(out), encoding_out)\n"
   ]
  },
  {
   "cell_type": "code",
   "execution_count": 24,
   "metadata": {},
   "outputs": [],
   "source": [
    "from collections import OrderedDict\n",
    "\n",
    "def make_dict(total_bits, int_bits, total_bits_var, int_bits_var):\n",
    "    adict = OrderedDict()\n",
    "    for k, v in loaded_dict.items():\n",
    "        adict[k] = v\n",
    "    adict['encoder.placeholder'] = loaded_dict['encoder.placeholder'][0:1, :, :, :, :]\n",
    "\n",
    "    newer_dict = OrderedDict()\n",
    "    dec_bits = total_bits - int_bits\n",
    "    \n",
    "    for k, v in adict.items():\n",
    "        if 'var' in k:\n",
    "            dec_bits_var = total_bits_var - int_bits_var\n",
    "            arr = v.cpu().numpy()\n",
    "            s_i = arr.shape\n",
    "            arr_f = arr.flatten()\n",
    "            arr_q = np.ndarray(arr_f.shape, dtype = np.float32)\n",
    "            for i in range(arr_f.shape[0]):\n",
    "                n = arr_f[i]\n",
    "                clamp = 2**(int_bits_var - 1) - 1\n",
    "                if n > clamp:\n",
    "                    n = clamp\n",
    "                if n < -clamp:\n",
    "                    n = -clamp\n",
    "                coef = 2**dec_bits_var\n",
    "                nn = int(n*coef)\n",
    "                arr_q[i] = nn/coef\n",
    "            arr_q = arr_q.reshape(s_i)\n",
    "            arr_q = torch.tensor(arr_q)\n",
    "            newer_dict[k] = arr_q\n",
    "            \n",
    "        elif 'bn' in k or 'relu' in k:\n",
    "            arr = v.cpu().numpy()\n",
    "            s_i = arr.shape\n",
    "            arr_f = arr.flatten()\n",
    "#             print('%s, max:%.4f'%(k, max(arr_f)))\n",
    "            arr_q = np.ndarray(arr_f.shape, dtype = np.float32)\n",
    "            for i in range(arr_f.shape[0]):\n",
    "                n = arr_f[i]\n",
    "                clamp = 2**(int_bits - 1) - 1\n",
    "                if n > clamp:\n",
    "                    n = clamp\n",
    "                if n < -clamp:\n",
    "                    n = -clamp\n",
    "                coef = 2**dec_bits\n",
    "                nn = int(n*coef)\n",
    "                arr_q[i] = nn/coef\n",
    "            arr_q = arr_q.reshape(s_i)\n",
    "            arr_q = torch.tensor(arr_q)\n",
    "            newer_dict[k] = arr_q\n",
    "            \n",
    "        else:\n",
    "            newer_dict[k] = v\n",
    "\n",
    "\n",
    "    # print(new_dict['bn1.weight'])\n",
    "    # print(newer_dict['bn1.weight'])\n",
    "    adict = newer_dict\n",
    "    return adict\n"
   ]
  },
  {
   "cell_type": "code",
   "execution_count": 25,
   "metadata": {},
   "outputs": [],
   "source": [
    "def make_data():\n",
    "    transform = transforms.Compose(\n",
    "        [transforms.ToTensor()]\n",
    "    )\n",
    "\n",
    "    trainset = torchvision.datasets.CIFAR10(root='./data', train=True,\n",
    "                                            download=False, transform=transform)\n",
    "    trainloader = torch.utils.data.DataLoader(trainset, batch_size=1,\n",
    "                                              shuffle=False, num_workers=1, \n",
    "                                              pin_memory=True, drop_last=True)\n",
    "    \n",
    "    return trainloader"
   ]
  },
  {
   "cell_type": "code",
   "execution_count": null,
   "metadata": {
    "scrolled": true
   },
   "outputs": [
    {
     "data": {
      "image/png": "[encoded data removed]",
      "text/plain": [
       "<PIL.Image.Image image mode=RGB size=32x32 at 0x21F1491E808>"
      ]
     },
     "metadata": {},
     "output_type": "display_data"
    },
    {
     "data": {
      "image/png": "[encoded data removed]",
      "text/plain": [
       "<PIL.Image.Image image mode=RGB size=32x32 at 0x21FABFA5A08>"
      ]
     },
     "metadata": {},
     "output_type": "display_data"
    },
    {
     "data": {
      "image/png": "[encoded data removed]",
      "text/plain": [
       "<PIL.Image.Image image mode=RGB size=32x32 at 0x21FAC624808>"
      ]
     },
     "metadata": {},
     "output_type": "display_data"
    },
    {
     "data": {
      "image/png": "[encoded data removed]",
      "text/plain": [
       "<PIL.Image.Image image mode=RGB size=32x32 at 0x21FAC645C08>"
      ]
     },
     "metadata": {},
     "output_type": "display_data"
    },
    {
     "data": {
      "image/png": "[encoded data removed]",
      "text/plain": [
       "<PIL.Image.Image image mode=RGB size=32x32 at 0x21FAC624848>"
      ]
     },
     "metadata": {},
     "output_type": "display_data"
    },
    {
     "data": {
      "image/png": "[encoded data removed]",
      "text/plain": [
       "<PIL.Image.Image image mode=RGB size=32x32 at 0x21F7A810E88>"
      ]
     },
     "metadata": {},
     "output_type": "display_data"
    },
    {
     "data": {
      "image/png": "[encoded data removed]",
      "text/plain": [
       "<PIL.Image.Image image mode=RGB size=32x32 at 0x21F7E892448>"
      ]
     },
     "metadata": {},
     "output_type": "display_data"
    },
    {
     "data": {
      "image/png": "[encoded data removed]",
      "text/plain": [
       "<PIL.Image.Image image mode=RGB size=32x32 at 0x21F7E8925C8>"
      ]
     },
     "metadata": {},
     "output_type": "display_data"
    },
    {
     "data": {
      "image/png": "[encoded data removed]",
      "text/plain": [
       "<PIL.Image.Image image mode=RGB size=32x32 at 0x21F7E892348>"
      ]
     },
     "metadata": {},
     "output_type": "display_data"
    },
    {
     "data": {
      "image/png": "[encoded data removed]",
      "text/plain": [
       "<PIL.Image.Image image mode=RGB size=32x32 at 0x21FAC645288>"
      ]
     },
     "metadata": {},
     "output_type": "display_data"
    },
    {
     "data": {
      "image/png": "[encoded data removed]",
      "text/plain": [
       "<PIL.Image.Image image mode=RGB size=32x32 at 0x21F7E892C48>"
      ]
     },
     "metadata": {},
     "output_type": "display_data"
    },
    {
     "data": {
      "image/png": "[encoded data removed]",
      "text/plain": [
       "<PIL.Image.Image image mode=RGB size=32x32 at 0x21F7E892BC8>"
      ]
     },
     "metadata": {},
     "output_type": "display_data"
    },
    {
     "data": {
      "image/png": "[encoded data removed]",
      "text/plain": [
       "<PIL.Image.Image image mode=RGB size=32x32 at 0x21F7E8923C8>"
      ]
     },
     "metadata": {},
     "output_type": "display_data"
    },
    {
     "data": {
      "image/png": "[encoded data removed]",
      "text/plain": [
       "<PIL.Image.Image image mode=RGB size=32x32 at 0x21F7E8924C8>"
      ]
     },
     "metadata": {},
     "output_type": "display_data"
    },
    {
     "data": {
      "image/png": "[encoded data removed]",
      "text/plain": [
       "<PIL.Image.Image image mode=RGB size=32x32 at 0x21F7E892A88>"
      ]
     },
     "metadata": {},
     "output_type": "display_data"
    },
    {
     "data": {
      "image/png": "[encoded data removed]",
      "text/plain": [
       "<PIL.Image.Image image mode=RGB size=32x32 at 0x21F7E892588>"
      ]
     },
     "metadata": {},
     "output_type": "display_data"
    },
    {
     "data": {
      "image/png": "[encoded data removed]",
      "text/plain": [
       "<PIL.Image.Image image mode=RGB size=32x32 at 0x21FAC834848>"
      ]
     },
     "metadata": {},
     "output_type": "display_data"
    },
    {
     "data": {
      "image/png": "[encoded data removed]",
      "text/plain": [
       "<PIL.Image.Image image mode=RGB size=32x32 at 0x21F7E8B2C08>"
      ]
     },
     "metadata": {},
     "output_type": "display_data"
    },
    {
     "data": {
      "image/png": "[encoded data removed]",
      "text/plain": [
       "<PIL.Image.Image image mode=RGB size=32x32 at 0x21FAC834908>"
      ]
     },
     "metadata": {},
     "output_type": "display_data"
    },
    {
     "data": {
      "image/png": "[encoded data removed]",
      "text/plain": [
       "<PIL.Image.Image image mode=RGB size=32x32 at 0x21FAC834B88>"
      ]
     },
     "metadata": {},
     "output_type": "display_data"
    },
    {
     "data": {
      "image/png": "[encoded data removed]",
      "text/plain": [
       "<PIL.Image.Image image mode=RGB size=32x32 at 0x21FAC834C08>"
      ]
     },
     "metadata": {},
     "output_type": "display_data"
    },
    {
     "data": {
      "image/png": "[encoded data removed]",
      "text/plain": [
       "<PIL.Image.Image image mode=RGB size=32x32 at 0x21FAC834D08>"
      ]
     },
     "metadata": {},
     "output_type": "display_data"
    },
    {
     "data": {
      "image/png": "[encoded data removed]",
      "text/plain": [
       "<PIL.Image.Image image mode=RGB size=32x32 at 0x21FAC834C08>"
      ]
     },
     "metadata": {},
     "output_type": "display_data"
    },
    {
     "data": {
      "image/png": "[encoded data removed]",
      "text/plain": [
       "<PIL.Image.Image image mode=RGB size=32x32 at 0x21FAC834C08>"
      ]
     },
     "metadata": {},
     "output_type": "display_data"
    },
    {
     "data": {
      "image/png": "[encoded data removed]",
      "text/plain": [
       "<PIL.Image.Image image mode=RGB size=32x32 at 0x21FAC834DC8>"
      ]
     },
     "metadata": {},
     "output_type": "display_data"
    },
    {
     "data": {
      "image/png": "[encoded data removed]",
      "text/plain": [
       "<PIL.Image.Image image mode=RGB size=32x32 at 0x21FAC8360C8>"
      ]
     },
     "metadata": {},
     "output_type": "display_data"
    },
    {
     "data": {
      "image/png": "[encoded data removed]",
      "text/plain": [
       "<PIL.Image.Image image mode=RGB size=32x32 at 0x21FAC836108>"
      ]
     },
     "metadata": {},
     "output_type": "display_data"
    },
    {
     "data": {
      "image/png": "[encoded data removed]",
      "text/plain": [
       "<PIL.Image.Image image mode=RGB size=32x32 at 0x21FAC8362C8>"
      ]
     },
     "metadata": {},
     "output_type": "display_data"
    },
    {
     "data": {
      "image/png": "[encoded data removed]",
      "text/plain": [
       "<PIL.Image.Image image mode=RGB size=32x32 at 0x21FAC8360C8>"
      ]
     },
     "metadata": {},
     "output_type": "display_data"
    },
    {
     "data": {
      "image/png": "[encoded data removed]",
      "text/plain": [
       "<PIL.Image.Image image mode=RGB size=32x32 at 0x21FAC836508>"
      ]
     },
     "metadata": {},
     "output_type": "display_data"
    },
    {
     "data": {
      "image/png": "[encoded data removed]",
      "text/plain": [
       "<PIL.Image.Image image mode=RGB size=32x32 at 0x21FAC836588>"
      ]
     },
     "metadata": {},
     "output_type": "display_data"
    },
    {
     "data": {
      "image/png": "[encoded data removed]",
      "text/plain": [
       "<PIL.Image.Image image mode=RGB size=32x32 at 0x21FAC8367C8>"
      ]
     },
     "metadata": {},
     "output_type": "display_data"
    },
    {
     "data": {
      "image/png": "[encoded data removed]",
      "text/plain": [
       "<PIL.Image.Image image mode=RGB size=32x32 at 0x21FAC836888>"
      ]
     },
     "metadata": {},
     "output_type": "display_data"
    },
    {
     "data": {
      "image/png": "[encoded data removed]",
      "text/plain": [
       "<PIL.Image.Image image mode=RGB size=32x32 at 0x21FAC836988>"
      ]
     },
     "metadata": {},
     "output_type": "display_data"
    },
    {
     "data": {
      "image/png": "[encoded data removed]",
      "text/plain": [
       "<PIL.Image.Image image mode=RGB size=32x32 at 0x21FAC836848>"
      ]
     },
     "metadata": {},
     "output_type": "display_data"
    },
    {
     "data": {
      "image/png": "[encoded data removed]",
      "text/plain": [
       "<PIL.Image.Image image mode=RGB size=32x32 at 0x21FAC836548>"
      ]
     },
     "metadata": {},
     "output_type": "display_data"
    },
    {
     "data": {
      "image/png": "[encoded data removed]",
      "text/plain": [
       "<PIL.Image.Image image mode=RGB size=32x32 at 0x21FAC836D88>"
      ]
     },
     "metadata": {},
     "output_type": "display_data"
    },
    {
     "data": {
      "image/png": "[encoded data removed]",
      "text/plain": [
       "<PIL.Image.Image image mode=RGB size=32x32 at 0x21FAC836AC8>"
      ]
     },
     "metadata": {},
     "output_type": "display_data"
    },
    {
     "data": {
      "image/png": "[encoded data removed]",
      "text/plain": [
       "<PIL.Image.Image image mode=RGB size=32x32 at 0x21FAC836C08>"
      ]
     },
     "metadata": {},
     "output_type": "display_data"
    },
    {
     "data": {
      "image/png": "[encoded data removed]",
      "text/plain": [
       "<PIL.Image.Image image mode=RGB size=32x32 at 0x21FAC836D88>"
      ]
     },
     "metadata": {},
     "output_type": "display_data"
    },
    {
     "data": {
      "image/png": "[encoded data removed]",
      "text/plain": [
       "<PIL.Image.Image image mode=RGB size=32x32 at 0x21FAC836DC8>"
      ]
     },
     "metadata": {},
     "output_type": "display_data"
    },
    {
     "data": {
      "image/png": "[encoded data removed]",
      "text/plain": [
       "<PIL.Image.Image image mode=RGB size=32x32 at 0x21FAC838148>"
      ]
     },
     "metadata": {},
     "output_type": "display_data"
    },
    {
     "data": {
      "image/png": "[encoded data removed]",
      "text/plain": [
       "<PIL.Image.Image image mode=RGB size=32x32 at 0x21FAC836FC8>"
      ]
     },
     "metadata": {},
     "output_type": "display_data"
    },
    {
     "data": {
      "image/png": "[encoded data removed]",
      "text/plain": [
       "<PIL.Image.Image image mode=RGB size=32x32 at 0x21FAC838308>"
      ]
     },
     "metadata": {},
     "output_type": "display_data"
    },
    {
     "data": {
      "image/png": "[encoded data removed]",
      "text/plain": [
       "<PIL.Image.Image image mode=RGB size=32x32 at 0x21FAC838308>"
      ]
     },
     "metadata": {},
     "output_type": "display_data"
    },
    {
     "data": {
      "image/png": "[encoded data removed]",
      "text/plain": [
       "<PIL.Image.Image image mode=RGB size=32x32 at 0x21FAC838048>"
      ]
     },
     "metadata": {},
     "output_type": "display_data"
    },
    {
     "data": {
      "image/png": "[encoded data removed]",
      "text/plain": [
       "<PIL.Image.Image image mode=RGB size=32x32 at 0x21FAC838708>"
      ]
     },
     "metadata": {},
     "output_type": "display_data"
    },
    {
     "data": {
      "image/png": "[encoded data removed]",
      "text/plain": [
       "<PIL.Image.Image image mode=RGB size=32x32 at 0x21FAC838288>"
      ]
     },
     "metadata": {},
     "output_type": "display_data"
    },
    {
     "data": {
      "image/png": "[encoded data removed]",
      "text/plain": [
       "<PIL.Image.Image image mode=RGB size=32x32 at 0x21FAC838608>"
      ]
     },
     "metadata": {},
     "output_type": "display_data"
    },
    {
     "data": {
      "image/png": "[encoded data removed]",
      "text/plain": [
       "<PIL.Image.Image image mode=RGB size=32x32 at 0x21FAC838A08>"
      ]
     },
     "metadata": {},
     "output_type": "display_data"
    },
    {
     "data": {
      "image/png": "[encoded data removed]",
      "text/plain": [
       "<PIL.Image.Image image mode=RGB size=32x32 at 0x21FAC8387C8>"
      ]
     },
     "metadata": {},
     "output_type": "display_data"
    },
    {
     "data": {
      "image/png": "[encoded data removed]",
      "text/plain": [
       "<PIL.Image.Image image mode=RGB size=32x32 at 0x21FAC838C48>"
      ]
     },
     "metadata": {},
     "output_type": "display_data"
    },
    {
     "data": {
      "image/png": "[encoded data removed]",
      "text/plain": [
       "<PIL.Image.Image image mode=RGB size=32x32 at 0x21FAC838AC8>"
      ]
     },
     "metadata": {},
     "output_type": "display_data"
    },
    {
     "data": {
      "image/png": "[encoded data removed]",
      "text/plain": [
       "<PIL.Image.Image image mode=RGB size=32x32 at 0x21FAC838B88>"
      ]
     },
     "metadata": {},
     "output_type": "display_data"
    },
    {
     "data": {
      "image/png": "[encoded data removed]",
      "text/plain": [
       "<PIL.Image.Image image mode=RGB size=32x32 at 0x21FAC838FC8>"
      ]
     },
     "metadata": {},
     "output_type": "display_data"
    },
    {
     "data": {
      "image/png": "[encoded data removed]",
      "text/plain": [
       "<PIL.Image.Image image mode=RGB size=32x32 at 0x21FAC838F88>"
      ]
     },
     "metadata": {},
     "output_type": "display_data"
    },
    {
     "data": {
      "image/png": "[encoded data removed]",
      "text/plain": [
       "<PIL.Image.Image image mode=RGB size=32x32 at 0x21FAC839088>"
      ]
     },
     "metadata": {},
     "output_type": "display_data"
    },
    {
     "data": {
      "image/png": "[encoded data removed]",
      "text/plain": [
       "<PIL.Image.Image image mode=RGB size=32x32 at 0x21F1B309508>"
      ]
     },
     "metadata": {},
     "output_type": "display_data"
    },
    {
     "data": {
      "image/png": "[encoded data removed]",
      "text/plain": [
       "<PIL.Image.Image image mode=RGB size=32x32 at 0x21FAC834E08>"
      ]
     },
     "metadata": {},
     "output_type": "display_data"
    }
   ],
   "source": [
    "from time import perf_counter\n",
    "\n",
    "total_bits = 14\n",
    "int_bits = 8\n",
    "\n",
    "# todict = make_dict(total_bits, int_bits, 16, 11)\n",
    "adict = OrderedDict()\n",
    "for k, v in loaded_dict.items():\n",
    "    adict[k] = v\n",
    "adict['encoder.placeholder'] = loaded_dict['encoder.placeholder'][0:1, :, :, :, :]\n",
    "\n",
    "dataiter = iter(make_data())\n",
    "count = 0\n",
    "correct = 0\n",
    "times = []\n",
    "\n",
    "batch_size = 1000\n",
    "images_all = np.ndarray((96*batch_size, 32, 32))\n",
    "labels_all = np.ndarray((batch_size))\n",
    "\n",
    "tss = perf_counter()\n",
    "for i in range(batch_size):\n",
    "    images, labels = dataiter.next()\n",
    "    img = np.array(images*255.0)[0].transpose(1, 2, 0).astype(np.uint8)\n",
    "    display(Image.fromarray(img))\n",
    "    ts = perf_counter()\n",
    "    predict, encoding_out = net(images.numpy(), adict)\n",
    "    tt = perf_counter()\n",
    "    times.append(tt - ts)\n",
    "    for c in range(96):\n",
    "        for row in range(32):\n",
    "            for col in range(32):\n",
    "                images_all[i*96 + c][row][col] = encoding_out[0][c][row][col]\n",
    "    labels_all[i] = labels.numpy()[0]\n",
    "    if labels.numpy()[0] == predict:\n",
    "        correct += 1\n",
    "    count += 1\n",
    "ttt = perf_counter()\n",
    "print('Fixed<%d, %d>'%(total_bits, int_bits))\n",
    "print(correct/count)\n",
    "# print(count)\n",
    "print(sum(times)/count)\n",
    "print()\n",
    "\n",
    "# for total_bits in range(10, 17, 2):\n",
    "#     for int_bits in range(6, 11, 2):\n",
    "#         todict = make_dict(total_bits, int_bits, 16, 11)\n",
    "#         dataiter = iter(make_data())\n",
    "#         count = 0\n",
    "#         correct = 0\n",
    "#         times = []\n",
    "        \n",
    "#         tss = perf_counter()\n",
    "#         for i in range(1250):\n",
    "#             images, labels = dataiter.next()\n",
    "#             ts = perf_counter()\n",
    "#             predict = net(images.numpy(), todict)\n",
    "#             tt = perf_counter()\n",
    "#             times.append(tt - ts)\n",
    "#             if labels.numpy()[0] == predict:\n",
    "#                 correct += 1\n",
    "#             count += 1\n",
    "#         ttt = perf_counter()\n",
    "#         print('Fixed<%d, %d>'%(total_bits, int_bits))\n",
    "#         print(correct/count)\n",
    "#         # print(count)\n",
    "#         print(sum(times)/count)\n",
    "#         print()"
   ]
  },
  {
   "cell_type": "code",
   "execution_count": null,
   "metadata": {},
   "outputs": [],
   "source": [
    "np.save('labels.npy', labels_all)\n",
    "print(labels_all)\n",
    "np.save('encoding_out.npy', images_all)\n",
    "print(images_all)"
   ]
  }
 ],
 "metadata": {
  "kernelspec": {
   "display_name": "Python 3",
   "language": "python",
   "name": "python3"
  },
  "language_info": {
   "codemirror_mode": {
    "name": "ipython",
    "version": 3
   },
   "file_extension": ".py",
   "mimetype": "text/x-python",
   "name": "python",
   "nbconvert_exporter": "python",
   "pygments_lexer": "ipython3",
   "version": "3.7.9"
  }
 },
 "nbformat": 4,
 "nbformat_minor": 4
}
