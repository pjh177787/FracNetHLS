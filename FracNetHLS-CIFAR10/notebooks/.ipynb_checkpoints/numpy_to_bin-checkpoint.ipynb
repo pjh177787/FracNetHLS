{
 "cells": [
  {
   "cell_type": "code",
   "execution_count": 1,
   "metadata": {},
   "outputs": [
    {
     "name": "stdout",
     "output_type": "stream",
     "text": [
      "(96000, 32, 32)\n",
      "[[[  1   1   1 ...   1   1   1]\n",
      "  [  1 255   1 ...   1   1   1]\n",
      "  [  1   1   1 ...   1   1   1]\n",
      "  ...\n",
      "  [  1   1   1 ...   1   1   1]\n",
      "  [  1   1   1 ...   1   1   1]\n",
      "  [  1   1   1 ...   1   1   1]]\n",
      "\n",
      " [[  1   1   1 ...   1   1   1]\n",
      "  [  1 255   1 ...   1   1   1]\n",
      "  [  1   1   1 ...   1   1   1]\n",
      "  ...\n",
      "  [  1   1   1 ...   1   1   1]\n",
      "  [  1   1   1 ...   1   1   1]\n",
      "  [  1   1   1 ...   1   1   1]]\n",
      "\n",
      " [[  1   1   1 ...   1   1   1]\n",
      "  [255 255 255 ...   1   1   1]\n",
      "  [  1 255   1 ...   1   1   1]\n",
      "  ...\n",
      "  [  1   1   1 ...   1   1   1]\n",
      "  [  1   1   1 ...   1   1   1]\n",
      "  [  1   1   1 ...   1   1   1]]\n",
      "\n",
      " ...\n",
      "\n",
      " [[255 255 255 ... 255 255 255]\n",
      "  [255 255 255 ... 255 255 255]\n",
      "  [255 255 255 ... 255 255 255]\n",
      "  ...\n",
      "  [255 255 255 ... 255 255 255]\n",
      "  [255 255 255 ... 255 255 255]\n",
      "  [255 255 255 ... 255 255 255]]\n",
      "\n",
      " [[255 255 255 ... 255 255 255]\n",
      "  [255 255 255 ... 255 255 255]\n",
      "  [255 255 255 ... 255 255 255]\n",
      "  ...\n",
      "  [255 255 255 ... 255 255 255]\n",
      "  [255 255 255 ... 255 255 255]\n",
      "  [255 255 255 ... 255 255 255]]\n",
      "\n",
      " [[255 255 255 ... 255 255 255]\n",
      "  [255 255 255 ... 255 255 255]\n",
      "  [255 255 255 ... 255 255 255]\n",
      "  ...\n",
      "  [255 255 255 ... 255 255 255]\n",
      "  [255 255 255 ... 255 255 255]\n",
      "  [255 255 255 ... 255 255 255]]]\n"
     ]
    }
   ],
   "source": [
    "import numpy as np\n",
    "\n",
    "file_name = 'encoding_out.npy'\n",
    "input_np = np.load(file_name).astype(np.uint8)\n",
    "print(input_np.shape)\n",
    "print(input_np)"
   ]
  },
  {
   "cell_type": "code",
   "execution_count": null,
   "metadata": {},
   "outputs": [],
   "source": [
    "s = input_np.shape\n",
    "new_np = np.zeros(s, dtype = np.uint8)\n",
    "\n",
    "for c in range(s[0]):\n",
    "    for row in range(s[1]):\n",
    "        for col in range(s[2]):\n",
    "            if input_np[c][row][col] == 1:\n",
    "                new_np[c][row][col] = 1"
   ]
  },
  {
   "cell_type": "code",
   "execution_count": null,
   "metadata": {},
   "outputs": [],
   "source": [
    "with open(\"conv1_input.bin\", \"wb\") as f:\n",
    "    f.write(new_np.flatten())\n",
    "\n",
    "with open(\"conv1_input.bin\", \"rb\") as f:\n",
    "    data = list(f.read())\n",
    "data_recon = np.array(data).reshape(s)\n",
    "# print(data_recon)\n",
    "if data_recon.all() == new_np.all():\n",
    "    print('GOOD')"
   ]
  },
  {
   "cell_type": "code",
   "execution_count": null,
   "metadata": {},
   "outputs": [],
   "source": [
    "file_name = 'labels.npy'\n",
    "input_np = np.load(file_name).astype(np.uint8)\n",
    "with open(\"labels.bin\", \"wb\") as f:\n",
    "    f.write(input_np.flatten())"
   ]
  }
 ],
 "metadata": {
  "kernelspec": {
   "display_name": "Python 3",
   "language": "python",
   "name": "python3"
  },
  "language_info": {
   "codemirror_mode": {
    "name": "ipython",
    "version": 3
   },
   "file_extension": ".py",
   "mimetype": "text/x-python",
   "name": "python",
   "nbconvert_exporter": "python",
   "pygments_lexer": "ipython3",
   "version": "3.7.7"
  }
 },
 "nbformat": 4,
 "nbformat_minor": 4
}
